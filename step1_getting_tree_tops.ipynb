{
 "cells": [
  {
   "cell_type": "markdown",
   "metadata": {},
   "source": [
    "<br>\n",
    "\n",
    "# Extract tree top coordinates\n",
    "\n",
    "This notebook takes an aerial spectral orthophoto (channels: red, green, blue and infrared) from the black forest in .tiff format as input, extracts the coordinates of individual leaf trees from it and shifts the imprecise GPS coordinates of labeled leaf trees from the field to them.\n",
    "\n",
    "1. In a first step, tree top coordinates are defined as local maxima on a map of vegetation heights, the so called canopy height model which is loaded from the file called \"Lidar2021_vegheight_int16_04m_cm_weg30m.tif\".\n",
    "\n",
    "2. In a second step, only coordinates of leaf trees are kept while that of needle-like trees are discarded. To distinguish coordinates that correspond to either leaf or needle-like trees, we calculate the normalized difference vegetation index (NDVI) for a small rectengular portion around each tree top coordinate. The NDVI ranges from -1 to 1 reflecting no vegetation and high vegetation each. While needle-like trees should exhibit a similar vegetation index in winter and summer, the vegetation index should be very different between seasons for leaf trees. Thus, we compare the NDVI between the summer and winter and discard those tree top coordinates that show no sufficient difference.\n",
    "\n",
    "3. In a third step, we match the previously identified tree top coordinates of leaf trees with the labeled GPS tree coordinates that we have received from the field. These GPS tree coordinates are loaded from the .csv called \"Laubbäume_utm32.csv\" and may be inaccurate by several meters due to inaccuracies in the GPS signal – especially in forests. Thus, our goal is to shift the labeled tree coordinates as precisely as possible to a tree top and thereby center the box image of each tree (that we will extract in our next notebook) on the highest point of its crown. Eventually, the labeled and shifted leaf tree coordinates are saved in the very same .csv file called \"Laubbäume_utm32.csv\".\n",
    "\n",
    "<br>\n",
    "\n",
    "**Data you need for running this notebook**\n",
    "\n",
    "1. Aerial spectral orthophotos from the area you want to inspect – the TIFF file must be stored in the data folder\n",
    "\n",
    "2. Spectral maps from summer and winter of the desired area – both TIFF files must be stored in a NDVI subfolder in the data folder\n",
    "\n",
    "<br>\n",
    "\n",
    "**Content overview**\n",
    "\n",
    "* [Step 0: Setup](#step-0-setup)\n",
    "\n",
    "* [Step 1: Define tree tops as local maxima in the canopy height model](#step-1-define-tree-tops-as-local-maxima-in-the-canopy-height-model)\n",
    "\n",
    "* [Step 2: Using the NDVI season difference to detect leaf trees](#step-2-using-the-ndvi-season-difference-to-detect-leaf-trees)\n",
    "\n",
    "* [Step 3: Shifting geo coordinates of labeled trees](#step-3-shifting-geo-coordinates-of-labeled-trees)"
   ]
  },
  {
   "cell_type": "markdown",
   "metadata": {},
   "source": [
    "---"
   ]
  },
  {
   "cell_type": "markdown",
   "metadata": {},
   "source": [
    "---"
   ]
  },
  {
   "cell_type": "markdown",
   "metadata": {},
   "source": [
    "### Step 0: Setup"
   ]
  },
  {
   "cell_type": "code",
   "execution_count": 1,
   "metadata": {},
   "outputs": [],
   "source": [
    "# Toolboxes for data handling\n",
    "import pandas as pd\n",
    "import numpy as np\n",
    "\n",
    "# Toolboxes for plotting\n",
    "import matplotlib.pyplot as plt\n",
    "import seaborn as sns\n",
    "\n",
    "# Toolboxes for raster handling\n",
    "import rasterio\n",
    "\n",
    "# Toolboxes for image handling\n",
    "from scipy import ndimage\n",
    "from skimage.feature import peak_local_max\n",
    "\n",
    "# Toolboxes for warning handling\n",
    "import warnings"
   ]
  },
  {
   "cell_type": "code",
   "execution_count": 2,
   "metadata": {},
   "outputs": [],
   "source": [
    "# Ignore warnings for this notebook\n",
    "warnings.filterwarnings(\"ignore\")"
   ]
  },
  {
   "cell_type": "code",
   "execution_count": 3,
   "metadata": {},
   "outputs": [],
   "source": [
    "# Define the path to the map that contains the vegetation height\n",
    "# (canopy height model)\n",
    "vegheight_path = './data/LiDAR/Lidar2021_vegheight_int16_04m_cm_weg30m.tif'\n",
    "\n",
    "# Load the canopy height model\n",
    "vegheight = plt.imread(vegheight_path)"
   ]
  },
  {
   "cell_type": "markdown",
   "metadata": {},
   "source": [
    "----"
   ]
  },
  {
   "cell_type": "markdown",
   "metadata": {},
   "source": [
    "---"
   ]
  },
  {
   "cell_type": "markdown",
   "metadata": {},
   "source": [
    "### Step 1: Define tree tops as local maxima in the canopy height model"
   ]
  },
  {
   "cell_type": "code",
   "execution_count": 4,
   "metadata": {},
   "outputs": [],
   "source": [
    "# Define the standard deviation for the Gaussian kernel\n",
    "sd_kernel = 1.9\n",
    "\n",
    "# Apply smoothing to the canopy height model to remove spurious high\n",
    "# vegetation points in the map and hence noise\n",
    "vegheight_smooth = ndimage.gaussian_filter(vegheight, sigma=sd_kernel)\n",
    "\n",
    "# Define a threshold for the minimum size of trees in centimeters\n",
    "height_threshold = 300\n",
    "\n",
    "# Define a minimal allowed distance between neighboring peaks\n",
    "minimal_distance = 1\n",
    "\n",
    "# Extract local maxima in the canopy height model\n",
    "coords = peak_local_max(vegheight_smooth, min_distance=minimal_distance,\n",
    "                             threshold_abs=height_threshold)"
   ]
  },
  {
   "cell_type": "markdown",
   "metadata": {},
   "source": [
    "Compare different Gaussian Kernels (if unsure which one to use)"
   ]
  },
  {
   "cell_type": "code",
   "execution_count": 5,
   "metadata": {},
   "outputs": [],
   "source": [
    "# # Define the range of sigma values\n",
    "# sigma_values = np.arange(0, 2.5, 0.5)\n",
    "\n",
    "# # Define height_threshold and minimal_distance\n",
    "# height_threshold_comparison = 300 \n",
    "# minimal_distance_comparison = 1\n",
    "\n",
    "# # List to store the number of local maxima for each sigma value\n",
    "# coords_n = []\n",
    "\n",
    "# # Loop through all sigma values\n",
    "# for sigma in sigma_values:\n",
    "    \n",
    "#     # Apply Gaussian filter\n",
    "#     vegheight_smooth = ndimage.gaussian_filter(vegheight, sigma=sigma)\n",
    "    \n",
    "#     # Find local maxima\n",
    "#     coords_tmp = peak_local_max(vegheight_smooth, \n",
    "#                                 min_distance=minimal_distance_comparison, \n",
    "#                                 threshold_abs=height_threshold_comparison)\n",
    "    \n",
    "#     # Calculate the number of local maxima\n",
    "#     coords_n.append(len(coords_tmp))\n",
    "\n",
    "# # Create a DataFrame from the results\n",
    "# df_coords_n = pd.DataFrame({'Sigma': sigma_values, \n",
    "#                                     'Number of Local Maxima': coords_n})\n",
    "\n",
    "# # Show the number of maxima that have been extracted from the canopy height model\n",
    "# # depending on which sigma has been chosen in the Gaussian smoothing\n",
    "# print(df_coords_n)"
   ]
  },
  {
   "cell_type": "markdown",
   "metadata": {},
   "source": [
    "Translate pixel coordinates to geo coordinates to plot the coordinates e.g. in QGIS and other software that handles raster data"
   ]
  },
  {
   "cell_type": "code",
   "execution_count": 6,
   "metadata": {},
   "outputs": [],
   "source": [
    "# Get information on how to transform pixel coordinates to geo coordinates by\n",
    "# loading the canopy height model in its original raster format\n",
    "with rasterio.open(vegheight_path) as data:\n",
    "\n",
    "    # Extract the transformation information\n",
    "    transform = data.transform\n",
    "    \n",
    "# List to store the coordinates of local maxima (treetops)\n",
    "tt_coords = []\n",
    "\n",
    "# Loop through the pixel coordinates of each treetop\n",
    "for i in range(coords.shape[0]):\n",
    "    \n",
    "    # Determine the geo coordinates of this local maximum\n",
    "    lon, lat = rasterio.transform.xy(transform, coords[i,0], coords[i,1])\n",
    "    tt_coords.append((lon, lat))\n",
    "    \n",
    "# Turn list of tree tops into a dataframe\n",
    "ttc_df = pd.DataFrame(tt_coords)\n",
    "\n",
    "# Rename the coordinate columns\n",
    "ttc_df.columns = ['x_geo', 'y_geo']"
   ]
  },
  {
   "cell_type": "markdown",
   "metadata": {},
   "source": [
    "---"
   ]
  },
  {
   "cell_type": "markdown",
   "metadata": {},
   "source": [
    "---"
   ]
  },
  {
   "cell_type": "markdown",
   "metadata": {},
   "source": [
    "### Step 2: Using the NDVI season difference to detect leaf trees"
   ]
  },
  {
   "cell_type": "markdown",
   "metadata": {},
   "source": [
    "Function to transform geo coordinates of treetops to pixel coordinates in the aerial spectral orthophoto"
   ]
  },
  {
   "cell_type": "code",
   "execution_count": 7,
   "metadata": {},
   "outputs": [],
   "source": [
    "# Define a function to translate geo-coordinates to pixel coordinates\n",
    "def pixel_coordinate_translation(ttc_df, transform):\n",
    "\n",
    "    # Report that geo coordinates will be translated to pixel coordinates\n",
    "    print('Started the translation of tree coordinates from geo to pixel.',\n",
    "          end='\\n')\n",
    "    \n",
    "    # Create two new columns in the tree top coordinate data frame that will\n",
    "    # contain the pixel coordinate information\n",
    "    ttc_df['x_pix'] = np.full(ttc_df.shape[0], fill_value=np.nan)\n",
    "    ttc_df['y_pix'] = np.full(ttc_df.shape[0], fill_value=np.nan)\n",
    "\n",
    "    # Loop through the coordinates of all treetops\n",
    "    for i, row in ttc_df.iterrows():\n",
    "\n",
    "        # Extract the coordinate information of a single treetop\n",
    "        longitude = row['x_geo']\n",
    "        latitude = row['y_geo']\n",
    "\n",
    "        # Translate the coordinate to a pixel coordinate\n",
    "        y_pix, x_pix = ~transform * (longitude, latitude)\n",
    "\n",
    "        # Add the pixel coordinates to the data frame\n",
    "        ttc_df.loc[i,'x_pix'] = int(x_pix)\n",
    "        ttc_df.loc[i,'y_pix'] = int(y_pix)\n",
    "\n",
    "        # Report progress each time after 100 treetop coordinates have been\n",
    "        # translated\n",
    "        if (((i+1)%100) == 0) and (((i+1)%1000) > 0):\n",
    "            print('.', end='')\n",
    "        elif (((i+1)%1000) == 0):\n",
    "            print('; ' + str(i+1) + ' tree coordinates have been ' + \n",
    "                'translated (' + str((100*i)//ttc_df.shape[0]) + '%)', \n",
    "                end='\\n')\n",
    "        elif ((i+1) == ttc_df.shape[0]):\n",
    "            print('; ' + str(i+1) + ' tree coordinates have been ' + \n",
    "                'translated (' + str(100) + '%)', end='\\n')\n",
    "\n",
    "    # Report that geo coordinates have been translated to pixel coordinates\n",
    "    print('Finished the translation of tree coordinates from geo to pixel.',\n",
    "          end='\\n\\n')\n",
    "\n",
    "    # Return the pixel coordinates that have been added to the dataframe\n",
    "    return ttc_df"
   ]
  },
  {
   "cell_type": "markdown",
   "metadata": {},
   "source": [
    "Function to extract image boxes around each treetop pixel coordinate:"
   ]
  },
  {
   "cell_type": "code",
   "execution_count": 8,
   "metadata": {},
   "outputs": [],
   "source": [
    "# Define a function to extract image boxes around tree top pixel coordinates\n",
    "def extract_treetop_imageboxes(ttc_df, path_summer, path_winter):\n",
    "    \n",
    "    # Report that image boxes will be extracted from the spectral data\n",
    "    print('Started the extraction of image boxes.', end='\\n')\n",
    "\n",
    "    # Define the size of the box as an odd number to center it on the exact\n",
    "    # tree top pixel coordinate (here: 3.5 meters)\n",
    "    box_size = 35\n",
    "\n",
    "    # Define an empty array that will later contain all box images\n",
    "    tt_box_array = np.full((2, ttc_df.shape[0], box_size, box_size, 4), \n",
    "                           fill_value=np.nan)\n",
    "    \n",
    "\n",
    "    # Keep the spectral data of the summer ready to be loaded but do\n",
    "    # not load the whole map\n",
    "    with rasterio.open(path_summer) as data_summer, \\\n",
    "         rasterio.open(path_winter) as data_winter:\n",
    "    \n",
    "        # Define the pixel coordinate limits of the image\n",
    "        x_max_img = int(data_summer.shape[0])\n",
    "        y_max_img = int(data_summer.shape[1])\n",
    "    \n",
    "        # Iterate through all rows of the treetop pixel coordinates\n",
    "        for i, row in ttc_df.iterrows():\n",
    "            \n",
    "            # Get the pixel coordinate of the treetop\n",
    "            x_ttpc = int(row['x_pix'])\n",
    "            y_ttpc = int(row['y_pix'])\n",
    "\n",
    "            # Define the pixel coordinates of the box\n",
    "            y_min_box = y_ttpc - box_size//2\n",
    "            y_max_box = y_ttpc + box_size//2 + 1\n",
    "            x_min_box = x_ttpc - box_size//2\n",
    "            x_max_box = x_ttpc + box_size//2 + 1\n",
    "\n",
    "            # Check whether the box stays inside of the image limits\n",
    "            if (y_min_box >= 0) and (y_max_box <= y_max_img) and \\\n",
    "            (x_min_box >= 0) and (x_max_box <= x_max_img):\n",
    "            \n",
    "                # Define a box around the treetop coordinate that should be\n",
    "                # extracted\n",
    "                box_window = rasterio.windows.Window(y_min_box, x_min_box,\n",
    "                                                    box_size, box_size)\n",
    "\n",
    "                # Extract the box image and transpose it as rasters are in the\n",
    "                # shape: channels, width, height while we need width, height,\n",
    "                # channels\n",
    "                tt_box_array[0,i,:,:,:] = \\\n",
    "                    np.transpose(data_summer.read(window=box_window), (1,2,0))\n",
    "                tt_box_array[1,i,:,:,:] = \\\n",
    "                    np.transpose(data_winter.read(window=box_window), (1,2,0))                    \n",
    "                \n",
    "            # Report progress each time after 1000 boxes have been extracted\n",
    "            if (((i+1)%100) == 0) and (((i+1)%1000) > 0):\n",
    "                print('.', end='')\n",
    "            elif (((i+1)%1000) == 0):\n",
    "                print('; ' + str(i+1) + ' trees have been processed (' + \n",
    "                    str((100*i)//ttc_df.shape[0]) + '%)', end='\\n')\n",
    "            elif ((i+1) == ttc_df.shape[0]):\n",
    "                print('; ' + str(i+1) + ' trees have been processed (' + \n",
    "                    str(100) + '%)', end='\\n')\n",
    "            \n",
    "    # Report that image boxes have been extracted from the spectral data\n",
    "    print('Finished the extraction of image boxes.', end='\\n\\n')\n",
    "\n",
    "    # Return the array containing all image boxes placed around tree tops\n",
    "    return tt_box_array"
   ]
  },
  {
   "cell_type": "markdown",
   "metadata": {},
   "source": [
    "Function to calculate the normalized difference vegetation index (NDVI):"
   ]
  },
  {
   "cell_type": "code",
   "execution_count": 9,
   "metadata": {},
   "outputs": [],
   "source": [
    "# Define a function to calculate the ndvi\n",
    "def calculate_ndvi(ttc_df, tt_box_array):\n",
    "    \n",
    "    # Report that ndvi scores will be calculated\n",
    "    print('Started the calculation of ndvi scores.', end='\\n')    \n",
    "\n",
    "    # Calculate the ndvi for the summer\n",
    "    ndvi_summer = ((tt_box_array[0,:,:,:,3] - \n",
    "                    tt_box_array[0,:,:,:,0]) / \n",
    "                   (tt_box_array[0,:,:,:,3] + \n",
    "                    tt_box_array[0,:,:,:,0]))\n",
    "\n",
    "    # Calculate the summer average\n",
    "    ndvi_summer_avg = np.mean(ndvi_summer, axis=(1,2))\n",
    "\n",
    "    # Calculate the ndvi for the winter\n",
    "    ndvi_winter = ((tt_box_array[1,:,:,:,3] -\n",
    "                    tt_box_array[1,:,:,:,0]) / \n",
    "                   (tt_box_array[1,:,:,:,3] + \n",
    "                    tt_box_array[1,:,:,:,0]))\n",
    "\n",
    "    # Calculate the winter average\n",
    "    ndvi_winter_avg = np.mean(ndvi_winter, axis=(1,2))\n",
    "\n",
    "    # Calculate the difference between summer and winter\n",
    "    ndvi_avg_diff = ndvi_summer_avg - ndvi_winter_avg\n",
    "\n",
    "    # Append information to the data frame\n",
    "    ttc_df['ndvi_summer_avg'] = ndvi_summer_avg\n",
    "    ttc_df['ndvi_winter_avg'] = ndvi_winter_avg\n",
    "    ttc_df['ndvi_diff_avg']   = ndvi_avg_diff\n",
    "\n",
    "    # Report that ndvi scores have been calculated\n",
    "    print('Finished the calculation of ndvi scores.', end='\\n\\n')  \n",
    "\n",
    "    # Return the ttc_df as well as arrays of ndvi\n",
    "    return ttc_df, ndvi_summer, ndvi_winter"
   ]
  },
  {
   "cell_type": "markdown",
   "metadata": {},
   "source": [
    "Function to find a decision boundary to distinguish needle-like from leaf trees:"
   ]
  },
  {
   "cell_type": "code",
   "execution_count": 10,
   "metadata": {},
   "outputs": [],
   "source": [
    "# Define a function that performs a distinction between needle-like and\n",
    "# leaf trees\n",
    "def check_for_leaf_trees(ttc_df):\n",
    "            \n",
    "      # Report that tree tops will be assigned to either needle-like or\n",
    "      # leaf trees\n",
    "      print('Started the distinction between needle-like and leaf trees.',\n",
    "            end='\\n')\n",
    "\n",
    "      # Define a threshold for classifying a needle-like tree and hence\n",
    "      # drop its treetop coordinate from erroneously assigning it to be\n",
    "      # a leaf tree\n",
    "      thresh = .45\n",
    "\n",
    "      # Add the information whether the full image contains information\n",
    "      # to the data frame\n",
    "      ttc_df['img_complete'] = (np.isnan(ttc_df['ndvi_diff_avg']) == False)\n",
    "\n",
    "      # Add to the data frame whether all pixels in the box image contain\n",
    "      # information\n",
    "      print(str(round(100*np.mean(ttc_df['img_complete']))) + \n",
    "            '% of all tree tops have been marked to be part of a ' + \n",
    "            'complete image.')\n",
    "\n",
    "      # Add to the data frame whether the box image reflects a leaf tree\n",
    "      # or not\n",
    "      ttc_df['img_leaf'] = ttc_df['ndvi_diff_avg'] > thresh\n",
    "\n",
    "      # Report on how many treetops have been classified as leaf trees\n",
    "      print(str(round(100*np.mean(ttc_df['img_leaf']))) +\n",
    "            '% of all tree tops have been marked as being leaf trees.')\n",
    "\n",
    "      # Report that tree tops have been assigned to either needle-like or\n",
    "      # leaf trees\n",
    "      print('Finished the distinction between needle-like and leaf trees.',\n",
    "            end='\\n\\n')\n",
    "\n",
    "      # Return the extended data frame\n",
    "      return ttc_df"
   ]
  },
  {
   "cell_type": "markdown",
   "metadata": {},
   "source": [
    "Execute all functions to decide whether a treetop corresponds to a needle-like or leaf tree. Only keep coordinates of the leaf trees."
   ]
  },
  {
   "cell_type": "code",
   "execution_count": 11,
   "metadata": {},
   "outputs": [
    {
     "name": "stdout",
     "output_type": "stream",
     "text": [
      "\n",
      "Processing has started!\n",
      "\n",
      "Started the translation of tree coordinates from geo to pixel.\n",
      "........."
     ]
    },
    {
     "name": "stdout",
     "output_type": "stream",
     "text": [
      "; 1000 tree coordinates have been translated (2%)\n",
      ".........; 2000 tree coordinates have been translated (4%)\n",
      ".........; 3000 tree coordinates have been translated (6%)\n",
      ".........; 4000 tree coordinates have been translated (9%)\n",
      ".........; 5000 tree coordinates have been translated (11%)\n",
      ".........; 6000 tree coordinates have been translated (13%)\n",
      ".........; 7000 tree coordinates have been translated (15%)\n",
      ".........; 8000 tree coordinates have been translated (18%)\n",
      ".........; 9000 tree coordinates have been translated (20%)\n",
      ".........; 10000 tree coordinates have been translated (22%)\n",
      ".........; 11000 tree coordinates have been translated (24%)\n",
      ".........; 12000 tree coordinates have been translated (27%)\n",
      ".........; 13000 tree coordinates have been translated (29%)\n",
      ".........; 14000 tree coordinates have been translated (31%)\n",
      ".........; 15000 tree coordinates have been translated (33%)\n",
      ".........; 16000 tree coordinates have been translated (36%)\n",
      ".........; 17000 tree coordinates have been translated (38%)\n",
      ".........; 18000 tree coordinates have been translated (40%)\n",
      ".........; 19000 tree coordinates have been translated (42%)\n",
      ".........; 20000 tree coordinates have been translated (45%)\n",
      ".........; 21000 tree coordinates have been translated (47%)\n",
      ".........; 22000 tree coordinates have been translated (49%)\n",
      ".........; 23000 tree coordinates have been translated (51%)\n",
      ".........; 24000 tree coordinates have been translated (54%)\n",
      ".........; 25000 tree coordinates have been translated (56%)\n",
      ".........; 26000 tree coordinates have been translated (58%)\n",
      ".........; 27000 tree coordinates have been translated (60%)\n",
      ".........; 28000 tree coordinates have been translated (63%)\n",
      ".........; 29000 tree coordinates have been translated (65%)\n",
      ".........; 30000 tree coordinates have been translated (67%)\n",
      ".........; 31000 tree coordinates have been translated (69%)\n",
      ".........; 32000 tree coordinates have been translated (72%)\n",
      ".........; 33000 tree coordinates have been translated (74%)\n",
      ".........; 34000 tree coordinates have been translated (76%)\n",
      ".........; 35000 tree coordinates have been translated (78%)\n",
      ".........; 36000 tree coordinates have been translated (81%)\n",
      ".........; 37000 tree coordinates have been translated (83%)\n",
      ".........; 38000 tree coordinates have been translated (85%)\n",
      ".........; 39000 tree coordinates have been translated (87%)\n",
      ".........; 40000 tree coordinates have been translated (90%)\n",
      ".........; 41000 tree coordinates have been translated (92%)\n",
      ".........; 42000 tree coordinates have been translated (94%)\n",
      ".........; 43000 tree coordinates have been translated (96%)\n",
      ".........; 44000 tree coordinates have been translated (99%)\n",
      "....; 44410 tree coordinates have been translated (100%)\n",
      "Finished the translation of tree coordinates from geo to pixel.\n",
      "\n",
      "Started the extraction of image boxes.\n",
      ".........; 1000 trees have been processed (2%)\n",
      ".........; 2000 trees have been processed (4%)\n",
      ".........; 3000 trees have been processed (6%)\n",
      ".........; 4000 trees have been processed (9%)\n",
      ".........; 5000 trees have been processed (11%)\n",
      ".........; 6000 trees have been processed (13%)\n",
      ".........; 7000 trees have been processed (15%)\n",
      ".........; 8000 trees have been processed (18%)\n",
      ".........; 9000 trees have been processed (20%)\n",
      ".........; 10000 trees have been processed (22%)\n",
      ".........; 11000 trees have been processed (24%)\n",
      ".........; 12000 trees have been processed (27%)\n",
      ".........; 13000 trees have been processed (29%)\n",
      ".........; 14000 trees have been processed (31%)\n",
      ".........; 15000 trees have been processed (33%)\n",
      ".........; 16000 trees have been processed (36%)\n",
      ".........; 17000 trees have been processed (38%)\n",
      ".........; 18000 trees have been processed (40%)\n",
      ".........; 19000 trees have been processed (42%)\n",
      ".........; 20000 trees have been processed (45%)\n",
      ".........; 21000 trees have been processed (47%)\n",
      ".........; 22000 trees have been processed (49%)\n",
      ".........; 23000 trees have been processed (51%)\n",
      ".........; 24000 trees have been processed (54%)\n",
      ".........; 25000 trees have been processed (56%)\n",
      ".........; 26000 trees have been processed (58%)\n",
      ".........; 27000 trees have been processed (60%)\n",
      ".........; 28000 trees have been processed (63%)\n",
      ".........; 29000 trees have been processed (65%)\n",
      ".........; 30000 trees have been processed (67%)\n",
      ".........; 31000 trees have been processed (69%)\n",
      ".........; 32000 trees have been processed (72%)\n",
      ".........; 33000 trees have been processed (74%)\n",
      ".........; 34000 trees have been processed (76%)\n",
      ".........; 35000 trees have been processed (78%)\n",
      ".........; 36000 trees have been processed (81%)\n",
      ".........; 37000 trees have been processed (83%)\n",
      ".........; 38000 trees have been processed (85%)\n",
      ".........; 39000 trees have been processed (87%)\n",
      ".........; 40000 trees have been processed (90%)\n",
      ".........; 41000 trees have been processed (92%)\n",
      ".........; 42000 trees have been processed (94%)\n",
      ".........; 43000 trees have been processed (96%)\n",
      ".........; 44000 trees have been processed (99%)\n",
      "....; 44410 trees have been processed (100%)\n",
      "Finished the extraction of image boxes.\n",
      "\n",
      "Started the calculation of ndvi scores.\n",
      "Finished the calculation of ndvi scores.\n",
      "\n",
      "Started the distinction between needle-like and leaf trees.\n",
      "89% of all tree tops have been marked to be part of a complete image.\n",
      "16% of all tree tops have been marked as being leaf trees.\n",
      "Finished the distinction between needle-like and leaf trees.\n",
      "\n",
      "Processing has finished!\n"
     ]
    }
   ],
   "source": [
    "# Announce that processing has started\n",
    "print('\\nProcessing has started!', end='\\n\\n')\n",
    "\n",
    "# Define paths to the aerial spectral orthophotos\n",
    "summer_path = './data/TDOP/TDOP_2022_weg30m.tif'\n",
    "winter_path = './data/TDOP/TDOP_2021_weg30m.tif'\n",
    "\n",
    "# Load information on how to transform geo coordinates\n",
    "# to pixel coordinates in the aerial spectral orthophoto\n",
    "with rasterio.open(summer_path) as data:\n",
    "    \n",
    "    # Extract info regarding the transformation of pixel to geo-\n",
    "    # coordinates\n",
    "    transform = data.transform\n",
    "\n",
    "# Translate geo coordinates of treetops to pixel coordinates\n",
    "# in the aerial spectral orthophoto\n",
    "ttc_df = pixel_coordinate_translation(ttc_df, transform)\n",
    "\n",
    "# Extract image boxes around treetop coordinates for each season\n",
    "tt_box_array = \\\n",
    "    extract_treetop_imageboxes(ttc_df, summer_path, winter_path)\n",
    "\n",
    "# Calculate the ndvi\n",
    "ttc_df, ndvi_summer, ndvi_winter = calculate_ndvi(ttc_df, tt_box_array)\n",
    "\n",
    "# Add the nvdi information to the data frame and classify treetops to\n",
    "# either belong to needle-like or leaf trees\n",
    "ttc_df = check_for_leaf_trees(ttc_df)\n",
    "\n",
    "# Announce that processing has finished\n",
    "print('Processing has finished!', end='\\n')"
   ]
  },
  {
   "cell_type": "markdown",
   "metadata": {},
   "source": [
    "Plot the NDVI for summer, winter and their difference:"
   ]
  },
  {
   "cell_type": "code",
   "execution_count": 24,
   "metadata": {},
   "outputs": [
    {
     "data": {
      "image/png": "[encoded data removed]",
      "text/plain": [
       "<Figure size 1500x500 with 3 Axes>"
      ]
     },
     "metadata": {},
     "output_type": "display_data"
    }
   ],
   "source": [
    "# Open the figure\n",
    "fig, ax = plt.subplots(1, 3, figsize=(15, 5))\n",
    "\n",
    "# Plot the ndvi for the summer\n",
    "fig0 = sns.histplot(ttc_df['ndvi_summer_avg'], ax=ax[0], bins=100,\n",
    "                    binrange=(-1,1))\n",
    "\n",
    "# Change the axes layout\n",
    "ax[0].set_xlim(-.4, 1)\n",
    "ax[0].set_ylim(0, 8000)\n",
    "fig0.set(xticks=np.arange(-.2,1.0,.2))\n",
    "fig0.set(xlabel='NDVI - Summer');\n",
    "\n",
    "# Plot the ndvi for the winter\n",
    "fig1 = sns.histplot(ttc_df['ndvi_winter_avg'], ax=ax[1], bins=100,\n",
    "                    binrange=(-1,1))\n",
    "\n",
    "# Change the axes layout\n",
    "ax[1].set_xlim(-.4, 1)\n",
    "ax[1].set_ylim(0, 8000)\n",
    "fig1.set(xticks=np.arange(-.2,1.0,.2))\n",
    "fig1.set(xlabel='NDVI - Winter');\n",
    "\n",
    "# Plot the ndvi for the summer winter difference\n",
    "fig2 = sns.histplot(ttc_df['ndvi_diff_avg'], ax=ax[2], bins=100,\n",
    "                    binrange=(-1,1))\n",
    "\n",
    "# Change the axes layout\n",
    "ax[2].set_xlim(-.4, 1)\n",
    "ax[2].set_ylim(0, 8000)\n",
    "fig2.set(xticks=np.arange(-.2,1.0,.2))\n",
    "fig2.set(xlabel='NDVI - difference');\n",
    "\n",
    "# Show the figure\n",
    "plt.tight_layout()\n",
    "plt.show()"
   ]
  },
  {
   "cell_type": "markdown",
   "metadata": {},
   "source": [
    "Plot the NDVI only for the difference summer - winter:"
   ]
  },
  {
   "cell_type": "code",
   "execution_count": 25,
   "metadata": {},
   "outputs": [
    {
     "data": {
      "image/png": "[encoded data removed]",
      "text/plain": [
       "<Figure size 1000x500 with 1 Axes>"
      ]
     },
     "metadata": {},
     "output_type": "display_data"
    }
   ],
   "source": [
    "# Plot the ndvi for the summer-winter\n",
    "fig, ax = plt.subplots(1, 1, figsize=(10,5))\n",
    "fig = sns.histplot(ttc_df['ndvi_diff_avg'])\n",
    "ax.set_xlim(-.4, 1.0)\n",
    "ax.set_ylim(0, 1800)\n",
    "fig.set(xlabel='NDVI difference (summer-winter)')\n",
    "fig.set(xticks=np.arange(-.2, 1, .2));"
   ]
  },
  {
   "cell_type": "markdown",
   "metadata": {},
   "source": [
    "\n",
    "Conclusion from the plot:\n",
    "\n",
    "* Two extrema should be distinguishable by eye. In the original use case: A large extrema formed around .25 while a smaller one formed around .55.\n",
    "\n",
    "* Differences closer to zero likely result from NDVI values being similar in summer and winter (needle-like trees) while larger values likely result from NDVI values being larger in summer and smaller in winter (leaf trees). Accordingly, we want to include only the latter into our analysis pipeline.\n",
    "\n",
    "* Based on the plot, a lower and upper value for the NDVI of deciduous trees must now be defined. In the original use case, this was defined as .45 and higher. With this threshold we will erroneously exclude some leaf trees but will include not that many needle-like leaf trees in our further processing.\n"
   ]
  },
  {
   "cell_type": "markdown",
   "metadata": {},
   "source": [
    "---"
   ]
  },
  {
   "cell_type": "markdown",
   "metadata": {},
   "source": [
    "---"
   ]
  },
  {
   "cell_type": "markdown",
   "metadata": {},
   "source": [
    "### Step 3: Shifting geo coordinates of labeled trees"
   ]
  },
  {
   "cell_type": "markdown",
   "metadata": {},
   "source": [
    "The general aim of this step is to shift each tree coordinate to the tree top that is closest to it. As it occurs that multiple tree coordinates are shifted to the same treetop, these duplicate assignments need to be handled so that only the assignment with the shortest distance remains."
   ]
  },
  {
   "cell_type": "code",
   "execution_count": 27,
   "metadata": {},
   "outputs": [],
   "source": [
    "# Only keep treetops with complete box images and a deciduous tree content\n",
    "ttc_df = ttc_df[(ttc_df['img_complete'] == True) & (ttc_df['img_leaf'] == True)]\n",
    "\n",
    "# Add an identifier variable\n",
    "ttc_df['id'] = np.arange(0, ttc_df.shape[0], 1)\n",
    "\n",
    "# Reset the index as rows have been dropped\n",
    "ttc_df.reset_index(drop=True, inplace=True)"
   ]
  },
  {
   "cell_type": "markdown",
   "metadata": {},
   "source": [
    "Import the coordinates of the original but cleaned labeled trees:"
   ]
  },
  {
   "cell_type": "code",
   "execution_count": 38,
   "metadata": {},
   "outputs": [],
   "source": [
    "# Load the tree coordinates, this a cleaned version, in which\n",
    "# trees that show the exact same coordinates or are outside of\n",
    "# investigated area have been dropped\n",
    "tc_df = pd.read_csv('./data/Laubbäume_utm32_cleaned.csv')\n",
    "\n",
    "# Only extract columns that will be relevant in the further processing\n",
    "tc_df = tc_df[['X', 'Y', 'desc']]\n",
    "\n",
    "# Rename columns\n",
    "tc_df.columns = ['x_geo', 'y_geo', 'label']\n",
    "\n",
    "# Check for tree coordinates that are duplicates of each other and throw\n",
    "# them away\n",
    "tc_df = tc_df[tc_df[['x_geo', 'y_geo']].duplicated(keep=False) == False].\\\n",
    "    reset_index(drop=True)\n",
    "\n",
    "# Add a column that delineates lists of previous ids of treetops that it\n",
    "# should have been shifted to but another tree was closer\n",
    "tc_df['prev_shift_id'] = [[] for _ in range(len(tc_df))]\n",
    "\n",
    "# Add a column that contains the id of the treetop that the tree coordinate\n",
    "# is currently shifted to\n",
    "tc_df['last_shift_id'] = [np.nan for _ in range(len(tc_df))]\n",
    "\n",
    "# Add a column that contains the distance of the tree coordinate from the\n",
    "# treetop that it is currently shifted to\n",
    "tc_df['last_distance'] = [np.nan for _ in range(len(tc_df))]"
   ]
  },
  {
   "cell_type": "markdown",
   "metadata": {},
   "source": [
    "Define functions for allocating tree coordinates to treetop coordinates:"
   ]
  },
  {
   "cell_type": "code",
   "execution_count": 39,
   "metadata": {},
   "outputs": [],
   "source": [
    "# Define a function to check whether a list is empty\n",
    "def check_list_empty(lst):\n",
    "    return (np.sum(np.isnan(lst)) > 0)\n",
    "\n",
    "# Define a function to check whether there are any duplicates in a list\n",
    "def check_list_duplicates(lst):\n",
    "    return (len(np.unique(lst)) < len(lst))"
   ]
  },
  {
   "cell_type": "markdown",
   "metadata": {},
   "source": [
    "Perform the allocation of tree coordinates to treetop coordinates:"
   ]
  },
  {
   "cell_type": "code",
   "execution_count": 40,
   "metadata": {},
   "outputs": [],
   "source": [
    "# Run the following code as long as the list of id allocations is either (1)\n",
    "# empty (tree coordinate has not been assigned to a treetop) or (2) contains\n",
    "# duplicates (multiple trees coordinates have been assigned to the same\n",
    "# treetop)\n",
    "while check_list_empty(tc_df['last_shift_id']) or \\\n",
    "      check_list_duplicates(tc_df['last_shift_id']):\n",
    "\n",
    "    # Determine rows that have no treetop allocation\n",
    "    tta_missing = np.where(np.isnan(tc_df['last_shift_id']))\n",
    "\n",
    "    # Loop through all tree coordinates that currently have no treetop\n",
    "    # allocation\n",
    "    for i in tta_missing[0]:\n",
    "\n",
    "        # Extract a single tree coordinate\n",
    "        tc = (tc_df.loc[i,'x_geo'], tc_df.loc[i,'y_geo'])\n",
    "\n",
    "        # Extract the matching history for this tree coordinate\n",
    "        tc_hist = tc_df.loc[i,'prev_shift_id']\n",
    "\n",
    "        # Drop all treetop coordinates that have already been matched with\n",
    "        # this tree coordinate before\n",
    "        ttc_dft = ttc_df.drop(tc_hist, axis=0).reset_index(drop=True)\n",
    "\n",
    "        # Calculate the distance between this tree coordinate and all\n",
    "        # (remaining) treetop coordinates\n",
    "        dist_lst = np.sqrt(np.sum((ttc_dft[['x_geo', 'y_geo']] - tc) ** 2,\n",
    "                                  axis=1))\n",
    "        \n",
    "        # Find the treetop index with the minimum distance\n",
    "        ind_min = np.argmin(dist_lst)\n",
    "\n",
    "        # Add this treetop id to the history of matched treetop ids\n",
    "        tc_df.loc[i,'prev_shift_id'].append(ttc_dft.loc[ind_min,'id'])\n",
    "\n",
    "        # Set the treetop that corresponds to this minimum distance as the\n",
    "        # last shift id\n",
    "        tc_df.loc[i,'last_shift_id'] = ttc_dft.loc[ind_min,'id']\n",
    "\n",
    "        # Save the distance to allow for comparisons later on\n",
    "        tc_df.loc[i,'last_distance'] = dist_lst[ind_min]\n",
    "\n",
    "    # Check for duplicate assignments and summarize the respective treetop\n",
    "    # ids in a list\n",
    "    duplicates = tc_df['last_shift_id'].value_counts().reset_index()\n",
    "    duplicates = \\\n",
    "        duplicates.loc[duplicates['count'] > 1,'last_shift_id'].tolist()\n",
    "\n",
    "    # Loop through each duplicate value\n",
    "    for di in duplicates:\n",
    "        \n",
    "        # Extract indexes for duplicate assignments\n",
    "        duplicates_ind = tc_df['last_shift_id'] == di\n",
    "\n",
    "        # Check for each duplicate treetop coordinate which tree coordinate\n",
    "        # has the closest distance to it\n",
    "        dist_min = tc_df.loc[duplicates_ind, 'last_distance'].min()\n",
    "\n",
    "        # Extract indexes for tree coordinates that do not show that exact\n",
    "        # distance from their assigned treetop\n",
    "        distance_ind = (tc_df['last_distance'] != dist_min)\n",
    "\n",
    "        # Combine indexes to find pairs of tree coordinates and treetops\n",
    "        # that need be unassigned again as they do not show the shortest\n",
    "        # distance between each other\n",
    "        farther_ind = np.where(duplicates_ind & distance_ind)\n",
    "\n",
    "        # Assign these tree coordinates once again an nan so that a new\n",
    "        # treetop can be found for them\n",
    "        tc_df.loc[farther_ind[0],'last_shift_id'] = np.nan\n",
    "        tc_df.loc[farther_ind[0],'last_distance'] = np.nan"
   ]
  },
  {
   "cell_type": "markdown",
   "metadata": {},
   "source": [
    "Assign each tree coordinate its new tree top coordinate:"
   ]
  },
  {
   "cell_type": "code",
   "execution_count": 41,
   "metadata": {},
   "outputs": [],
   "source": [
    "# Predefine new columns that will contain the allocated treetop coordinates\n",
    "tc_df['x_geo_new'] = [np.nan for _ in range(len(tc_df))]\n",
    "tc_df['y_geo_new'] = [np.nan for _ in range(len(tc_df))]\n",
    "\n",
    "# Loop through all tree coordinates\n",
    "for i in range(len(tc_df)):\n",
    "\n",
    "    # Assign each tree coordinate its new tree top coordinate\n",
    "    tc_df.loc[i,'x_geo_new'] = \\\n",
    "        ttc_df.loc[tc_df.loc[i,'last_shift_id'],'x_geo']\n",
    "    tc_df.loc[i,'y_geo_new'] = \\\n",
    "        ttc_df.loc[tc_df.loc[i,'last_shift_id'],'y_geo']    \n",
    "\n",
    "# Extract relevant columns and rearrange them\n",
    "tc_df = tc_df[['x_geo', 'x_geo_new', 'y_geo', 'y_geo_new', 'label',\n",
    "               'last_shift_id', 'last_distance']]\n",
    "\n",
    "# Relabel the columns\n",
    "tc_df.columns = ['x_geo', 'x_geo_new', 'y_geo', 'y_geo_new', 'label',\n",
    "                 'treetop_id', 'distance']"
   ]
  },
  {
   "cell_type": "markdown",
   "metadata": {},
   "source": [
    "Plot the resulting distances for shifting tree coordinates on treetop coordinates:"
   ]
  },
  {
   "cell_type": "code",
   "execution_count": 42,
   "metadata": {},
   "outputs": [
    {
     "data": {
      "image/png": "[encoded data removed]",
      "text/plain": [
       "<Figure size 640x480 with 1 Axes>"
      ]
     },
     "metadata": {},
     "output_type": "display_data"
    }
   ],
   "source": [
    "# Plot a histogram comprising all distances but cut at 250 so that outliers\n",
    "# are not considered in scaling the axes\n",
    "sns.histplot(tc_df.loc[tc_df['distance'] < 250, 'distance']);"
   ]
  },
  {
   "cell_type": "code",
   "execution_count": 49,
   "metadata": {},
   "outputs": [],
   "source": [
    "# Only keep trees whose tree coordinates were not shifted more than 10 meters\n",
    "tc_df = tc_df[tc_df['distance'] < 10]\n",
    "\n",
    "# Reset the index as rows have been dropped\n",
    "tc_df.reset_index(drop=True, inplace=True)\n",
    "\n",
    "# Save the resulting data frame\n",
    "tc_df.to_csv('./data/Laubbäume_utm32_shifted.csv', index=False)"
   ]
  },
  {
   "cell_type": "markdown",
   "metadata": {},
   "source": [
    "We loose 35% of all trees be shifting their coordinates to the coordinates of a nearby treetop as we exclude all trees whose coordinates needed to be shifted farther than 10 meters. This is far from optimal and shows that the recorded tree coordinates do not automatically coincide with a treetop in the direct neighborhood. This might especially be the case for trees that are hidden under the tree crown of a larger tree or are less than three meters high as we did not allow tree tops lower than that to be detected."
   ]
  }
 ],
 "metadata": {
  "kernelspec": {
   "display_name": ".venv",
   "language": "python",
   "name": "python3"
  },
  "language_info": {
   "codemirror_mode": {
    "name": "ipython",
    "version": 3
   },
   "file_extension": ".py",
   "mimetype": "text/x-python",
   "name": "python",
   "nbconvert_exporter": "python",
   "pygments_lexer": "ipython3",
   "version": "3.11.3"
  },
  "orig_nbformat": 4
 },
 "nbformat": 4,
 "nbformat_minor": 2
}
