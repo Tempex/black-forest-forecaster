{
 "cells": [
  {
   "cell_type": "markdown",
   "metadata": {},
   "source": [
    "# Getting tree tops"
   ]
  },
  {
   "cell_type": "markdown",
   "metadata": {},
   "source": [
    "This notebook takes an orthophoto in TIFF format as input, extracts individual deciduous trees from it and crops them as individual images. These images can then be used to train a model. \n",
    "\n",
    "1. In the first step, the tree tops are extracted from the orthophoto using local maxima. With this method pixels in a canopy height model are identified as tree tops if they have the maximum height value in a defined neighborhood. The result is a CSV file in which the geo data of all identified tree tops are stored.\n",
    "\n",
    "2. In the second step, the normalized difference vegetation index (NDVI) is used to distinguish between conifers and deciduous. The tree canopy data is taken from the CSV file to extract box images of individual trees. These images are then used to compare vegetation indices between the summer and winter seasons. While conifers should exhibit a similar vegetation index in winter and summer, the vegetation index should be very different between seasons for deciduous. The result is a CSV file in which only the geo data of deciduous tree tops is stored.\n",
    "\n",
    "3. In the third step, we use the extracted coordinates of deciduous trees to correct the GPS data of the labeled trees. As GPS information can be inaccurate by several meters – especially in forests. The goal is to move the labeled data as precisely as possible to a tree top (local maxima) in the image. The result is a CSV file with the shifted geo data of labeled deciduous trees."
   ]
  },
  {
   "cell_type": "markdown",
   "metadata": {},
   "source": [
    "**Data you need for running this notebook:**"
   ]
  },
  {
   "cell_type": "markdown",
   "metadata": {},
   "source": [
    "1. Orthophoto from the area you want to inspect – the TIFF file must be stored in the data folder\n",
    "\n",
    "2. Spectral maps from summer and winter of the desired area – both TIFF files must be stored in a NDVI subfolder in the data folder"
   ]
  },
  {
   "cell_type": "markdown",
   "metadata": {},
   "source": [
    "**Content overview:**"
   ]
  },
  {
   "cell_type": "markdown",
   "metadata": {},
   "source": [
    "* [Setup](#setup)\n",
    "\n",
    "* [Step 1: Determine tree tops by calculating local maxima](#determine-tree-tops-by-calculating-local-maxima)\n",
    "\n",
    "    * [Theoretical Background](#theoretical-background)\n",
    "\n",
    "    * [Custom Circular Filter](#custom-circular-filter)\n",
    "\n",
    "    * [Gaussian Smoothing Kernal](#gaussian-smoothing-kernal)\n",
    "\n",
    "    * [Getting Local Maxima](#getting-local-maxima)\n",
    "\n",
    "    * [Getting Geo Data of the Local Maxima](#getting-geo-data-of-the-local-maxima)\n",
    "\n",
    "* [Step 2: Deciduous Distinction via NDVI](#deciduous-distinction-via-ndvi)\n",
    "\n",
    "    * [Customized Functions](#customized-functions)\n",
    "\n",
    "    * [Getting Deciduous Trees](#getting-deciduous-trees)\n",
    "\n",
    "* [Step 3: Shifting geo coordinates of labeled trees](#shifting-geo-coordinates-of-labeled-trees)"
   ]
  },
  {
   "cell_type": "markdown",
   "metadata": {},
   "source": [
    "---"
   ]
  },
  {
   "cell_type": "markdown",
   "metadata": {},
   "source": [
    "---"
   ]
  },
  {
   "cell_type": "markdown",
   "metadata": {},
   "source": [
    "## Setup"
   ]
  },
  {
   "cell_type": "code",
   "execution_count": 1,
   "metadata": {},
   "outputs": [],
   "source": [
    "# import packages\n",
    "\n",
    "import pandas as pd\n",
    "import numpy as np\n",
    "from numpy import random\n",
    "\n",
    "import matplotlib.pyplot as plt\n",
    "import seaborn as sns\n",
    "\n",
    "import rasterio\n",
    "from rasterio.plot import reshape_as_image\n",
    "\n",
    "\n",
    "from skimage.feature import peak_local_max\n",
    "from skimage import data, img_as_float\n",
    "from scipy import ndimage as ndi\n",
    "\n",
    "import tensorflow as tf\n",
    "import keras\n",
    "from pathlib import PurePath, Path"
   ]
  },
  {
   "cell_type": "code",
   "execution_count": 2,
   "metadata": {},
   "outputs": [
    {
     "name": "stderr",
     "output_type": "stream",
     "text": [
      "/Users/chris/Documents/bff/capstone-project_black-forest-forecasters/.venv/lib/python3.11/site-packages/PIL/Image.py:3157: DecompressionBombWarning: Image size (96284935 pixels) exceeds limit of 89478485 pixels, could be decompression bomb DOS attack.\n",
      "  warnings.warn(\n"
     ]
    }
   ],
   "source": [
    "# load data\n",
    "\n",
    "im = plt.imread('./data/Lidar2021_vegheight_int16_04m_dm_weg30m.tif')"
   ]
  },
  {
   "cell_type": "markdown",
   "metadata": {},
   "source": [
    "----"
   ]
  },
  {
   "cell_type": "markdown",
   "metadata": {},
   "source": [
    "---"
   ]
  },
  {
   "cell_type": "markdown",
   "metadata": {},
   "source": [
    "## Determine tree tops by calculating local maxima"
   ]
  },
  {
   "cell_type": "markdown",
   "metadata": {},
   "source": [
    "### Theoretical Background"
   ]
  },
  {
   "cell_type": "markdown",
   "metadata": {},
   "source": [
    "A maximum filter is pushed over the image. This dilates the original image and merges neighboring local maxima closer than the size of the dilation. If a pixel remains unchanged after dilation, then that pixel is a local maximum.\n",
    "\n",
    "In this use case, a custom circular filter is created as this corresponds more to the shape of tree tops seen from above.\n",
    "\n",
    "Additionally a Gaussian Smoothing Kernal can be applied to remove spurious high vegetation points. The kernal removes details and therefore noise. This will help ensure finding the treetops properly."
   ]
  },
  {
   "cell_type": "markdown",
   "metadata": {},
   "source": [
    "Sources:\n",
    "\n",
    "* [.maximum_filter](https://docs.scipy.org/doc/scipy/reference/generated/scipy.ndimage.maximum_filter.html): used for for local maxima\n",
    "\n",
    "* [peak_local_max](https://scikit-image.org/docs/stable/auto_examples/segmentation/plot_peak_local_max.html): returns the coordinates of local peaks (maxima) in an image\n",
    "\n",
    "* Finding local maxima with [peak_local_max](https://scikit-image.org/docs/stable/auto_examples/segmentation/plot_peak_local_max.html) from [scikit-image](https://scikit-image.org/)\n",
    "\n",
    "* [Scikit-image for trees local maxima detection](https://www.researchgate.net/publication/313120937_Scikit-image_for_trees_local_maxima_detection)"
   ]
  },
  {
   "cell_type": "markdown",
   "metadata": {},
   "source": [
    "Additional information about the parameters of \"peak_local_max\":\n",
    "\n",
    "* [Params 1 – peak_local_max](https://scikit-image.org/docs/dev/api/skimage.feature.html#skimage.feature.peak_local_max)\n",
    "\n",
    "* [Params 2 – peak_local_max](https://docs.scipy.org/doc/scipy/reference/generated/scipy.ndimage.maximum_filter.html)\n",
    "\n",
    "* [Params 3 – peak_local_max](https://rdrr.io/github/keithschulze/supr/man/peak_local_max.html) "
   ]
  },
  {
   "cell_type": "markdown",
   "metadata": {},
   "source": [
    "### Custom Circular Filter"
   ]
  },
  {
   "cell_type": "markdown",
   "metadata": {},
   "source": [
    "Function for a circular filter:"
   ]
  },
  {
   "cell_type": "code",
   "execution_count": 3,
   "metadata": {},
   "outputs": [],
   "source": [
    "# Define a function that allows the generation of a much larger circular filter that needs a radius and the sie of the filter array\n",
    "def generate_circle_array(radius, array_size):\n",
    "    # Create an array filled with zeros\n",
    "    array = np.zeros(array_size, dtype=int)\n",
    "    \n",
    "    # Get the center coordinates\n",
    "    center_x = (array_size[0] - 1) // 2\n",
    "    center_y = (array_size[1] - 1) // 2\n",
    "    \n",
    "    # Generate the circle\n",
    "    for x in range(array_size[0]):\n",
    "        for y in range(array_size[1]):\n",
    "            if (x - center_x)**2 + (y - center_y)**2 <= radius**2:\n",
    "                array[x, y] = 1\n",
    "    \n",
    "    return array\n",
    "\n",
    "# Define the radius of the circle and the array size\n",
    "radius = 7\n",
    "array_size = (15, 15)  # 21x21 array\n",
    "\n",
    "# Generate the circle array\n",
    "circle_array = generate_circle_array(radius, array_size)\n",
    "\n",
    "# Display the array as an image\n",
    "# plt.imshow(circle_array, cmap='binary')\n",
    "# plt.show()"
   ]
  },
  {
   "cell_type": "markdown",
   "metadata": {},
   "source": [
    "Getting the right size of the circular filter:"
   ]
  },
  {
   "cell_type": "code",
   "execution_count": 4,
   "metadata": {},
   "outputs": [],
   "source": [
    "# Define the size of each pixel in meters\n",
    "pixel_size = .4\n",
    "\n",
    "# Define the size of the filter window\n",
    "window_size = 2.5\n",
    "\n",
    "# Define the radius that we need to apply\n",
    "radius = np.ceil(.5 * ((window_size/100) / pixel_size)).astype('int')\n",
    "\n",
    "# Define the size of the array dimensions\n",
    "filter_dimension = (2*radius+1).astype('int')\n",
    "\n",
    "# Gather the filter dimensions in a tuple\n",
    "filter_array = (filter_dimension, filter_dimension)\n",
    "\n",
    "# Generate the circular array\n",
    "circle_filter = generate_circle_array(radius, filter_array)"
   ]
  },
  {
   "cell_type": "markdown",
   "metadata": {},
   "source": [
    "### Gaussian Smoothing Kernal"
   ]
  },
  {
   "cell_type": "code",
   "execution_count": 5,
   "metadata": {},
   "outputs": [],
   "source": [
    "# Define the standard deviation (sigma) for the Gaussian kernel\n",
    "# Adjust this value to control the smoothing strength\n",
    "sigma = 1.9 \n",
    "\n",
    "# Apply Gaussian smoothing\n",
    "im = ndi.gaussian_filter(im, sigma=sigma)"
   ]
  },
  {
   "cell_type": "code",
   "execution_count": 6,
   "metadata": {},
   "outputs": [],
   "source": [
    "# # Display images with and without kernel for verification if wanted\n",
    "\n",
    "# fig, axes = plt.subplots(1, 2, figsize=(8, 3), sharex=True, sharey=True)\n",
    "# ax = axes.ravel()\n",
    "\n",
    "# ax[0].imshow(im, cmap=plt.cm.gray)\n",
    "# ax[0].axis('off')\n",
    "# ax[0].set_title('Original')\n",
    "\n",
    "# ax[1].imshow(im_smooth, cmap=plt.cm.gray)\n",
    "# ax[1].axis('off')\n",
    "# ax[1].set_title('With Gaussian kernel')"
   ]
  },
  {
   "cell_type": "markdown",
   "metadata": {},
   "source": [
    "### Getting Local Maxima"
   ]
  },
  {
   "cell_type": "markdown",
   "metadata": {},
   "source": [
    "Finding local maxima:"
   ]
  },
  {
   "cell_type": "code",
   "execution_count": 7,
   "metadata": {},
   "outputs": [],
   "source": [
    "# Define a threshold for the minimum size of trees in centimeters\n",
    "height_threshold = 300\n",
    "\n",
    "# Define minimal allowed distance separating peaks\n",
    "minimal_distance = 1"
   ]
  },
  {
   "cell_type": "code",
   "execution_count": 8,
   "metadata": {},
   "outputs": [],
   "source": [
    "# Getting the local maxima with peak_local_max function using the circular filter\n",
    "# If indices=False a raster of the maximum points is returned, as opposed to a list of coordinates\n",
    "image_max = ndi.maximum_filter(im, footprint=circle_filter, mode='constant')\n",
    "\n",
    "# Comparison between image_max and im to find the coordinates of local maxima\n",
    "coordinates = peak_local_max(im, min_distance=minimal_distance, threshold_abs=height_threshold)"
   ]
  },
  {
   "cell_type": "code",
   "execution_count": 9,
   "metadata": {},
   "outputs": [],
   "source": [
    "# # Display results on the image if wanted\n",
    "\n",
    "# fig, axes = plt.subplots(1, 3, figsize=(8, 3), sharex=True, sharey=True)\n",
    "# ax = axes.ravel()\n",
    "# ax[0].imshow(im, cmap=plt.cm.gray)\n",
    "# ax[0].axis('off')\n",
    "# ax[0].set_title('Original')\n",
    "\n",
    "# ax[1].imshow(image_max, cmap=plt.cm.gray)\n",
    "# ax[1].axis('off')\n",
    "# ax[1].set_title('Maximum filter')\n",
    "\n",
    "# ax[2].imshow(im, cmap=plt.cm.gray)\n",
    "# ax[2].autoscale(False)\n",
    "# ax[2].plot(coordinates[:, 1], coordinates[:, 0], 'r.')\n",
    "# ax[2].axis('off')\n",
    "# ax[2].set_title('Peak local max')\n",
    "\n",
    "# fig.tight_layout()\n",
    "\n",
    "# plt.show()"
   ]
  },
  {
   "cell_type": "markdown",
   "metadata": {},
   "source": [
    "Compare different Gaussian Kernels (if unsure which one to use)"
   ]
  },
  {
   "cell_type": "code",
   "execution_count": 10,
   "metadata": {},
   "outputs": [],
   "source": [
    "# # Define the range of sigma values (from ... to ..., incremented by ...)\n",
    "# sigma_values = np.arange(0, 2.5, 0.1)\n",
    "\n",
    "# # Define height_threshold and minimal_distance\n",
    "# height_threshold_comparison = 300\n",
    "# minimal_distance_comparison = 1\n",
    "\n",
    "# # List to store the number of local maxima for each sigma value\n",
    "# num_local_maxima_list = []\n",
    "# for sigma_comparison in sigma_values:\n",
    "#     # Apply Gaussian filter\n",
    "#     smoothed_im = ndi.gaussian_filter(im, sigma=sigma_comparison)\n",
    "#     # Find local maxima\n",
    "#     image_max = ndi.maximum_filter(smoothed_im, footprint=circle_filter, mode='constant')\n",
    "#     coordinates_comparison = peak_local_max(smoothed_im, min_distance=minimal_distance_comparison, threshold_abs=height_threshold_comparison)\n",
    "#     num_local_maxima = len(coordinates_comparison)\n",
    "#     num_local_maxima_list.append(num_local_maxima)\n",
    "\n",
    "# # Create a DataFrame to store the results\n",
    "# df_sigma_comparison = pd.DataFrame({'Sigma': sigma_values, 'Number of Local Maxima': num_local_maxima_list})\n",
    "\n",
    "# # Calculate the difference in the number of local maxima from one sigma value to another\n",
    "# # add it as a new column\n",
    "# df_sigma_comparison['Difference'] = df_sigma_comparison['Number of Local Maxima'].diff()\n",
    "\n",
    "# df_sigma_comparison"
   ]
  },
  {
   "cell_type": "markdown",
   "metadata": {},
   "source": [
    "### Getting Geo Data of the Local Maxima"
   ]
  },
  {
   "cell_type": "code",
   "execution_count": 11,
   "metadata": {},
   "outputs": [],
   "source": [
    "# turn array with coordinates into df\n",
    "df_coordinates = pd.DataFrame(coordinates)\n",
    "\n",
    "# assign x and y\n",
    "x = df_coordinates[0]\n",
    "\n",
    "y = df_coordinates[1]"
   ]
  },
  {
   "cell_type": "code",
   "execution_count": 12,
   "metadata": {},
   "outputs": [],
   "source": [
    "# Getting geo information from the original data by opening it as a raster\n",
    "# Transform it – otherwise the geo data is mirrored\n",
    "src = rasterio.open('./data/Lidar2021_vegheight_int16_04m_dm_weg30m.tif')\n",
    "\n",
    "crs = src.crs\n",
    "transform = src.transform"
   ]
  },
  {
   "cell_type": "code",
   "execution_count": 13,
   "metadata": {},
   "outputs": [],
   "source": [
    "# List to store the local maxima coordinates\n",
    "treetop = []\n",
    "\n",
    "# Assuming 'x' and 'y' are the lists containing the local maxima coordinates\n",
    "for i in range(len(x)):\n",
    "    # Determine the coordinate of this local maximum\n",
    "    lon, lat = rasterio.transform.xy(transform, x[i], y[i])\n",
    "    treetop.append((lon, lat))"
   ]
  },
  {
   "cell_type": "code",
   "execution_count": 14,
   "metadata": {},
   "outputs": [],
   "source": [
    "# Turn list of tree tops into a dataframe\n",
    "df_ttc = pd.DataFrame(treetop)\n",
    "\n",
    "# Rename the coordinate columns\n",
    "df_ttc.columns = [\"X\", \"Y\"]\n",
    "\n",
    "# Show the data frame\n",
    "# df_ttc.head()"
   ]
  },
  {
   "cell_type": "markdown",
   "metadata": {},
   "source": [
    "Save Tree Tops Geo Data as CSV"
   ]
  },
  {
   "cell_type": "code",
   "execution_count": 15,
   "metadata": {},
   "outputs": [],
   "source": [
    "# Save the tree top coordinates in a .csv file\n",
    "\n",
    "# df_ttc.to_csv('./data/treetop_coordinates_thresh' + str(height_threshold) + '_win' + str(window_size) + 'min_dis' + str(minimal_distance) + '_gauss' + str(sigma) + '.csv', index=False)\n",
    "\n",
    "df_ttc.to_csv('./data/tree_top_coordinates_all.csv')"
   ]
  },
  {
   "cell_type": "markdown",
   "metadata": {},
   "source": [
    "---"
   ]
  },
  {
   "cell_type": "markdown",
   "metadata": {},
   "source": [
    "---"
   ]
  },
  {
   "cell_type": "markdown",
   "metadata": {},
   "source": [
    "## Deciduous Distinction via NDVI"
   ]
  },
  {
   "cell_type": "markdown",
   "metadata": {},
   "source": [
    "### Customized Functions"
   ]
  },
  {
   "cell_type": "markdown",
   "metadata": {},
   "source": [
    "Function to import spectral data:"
   ]
  },
  {
   "cell_type": "code",
   "execution_count": 16,
   "metadata": {},
   "outputs": [],
   "source": [
    "# Define a function to load raster data\n",
    "def load_raster_data(path):\n",
    "\n",
    "    # Report that spectral data will be loaded\n",
    "    print('Started the loading of spectral data.', end='\\n')\n",
    "\n",
    "    # Preload the data\n",
    "    with rasterio.open(path) as data:\n",
    "        \n",
    "        # Extract the data from each frequency band and reshape the resulting\n",
    "        # array\n",
    "        data_band = [band for band in data.read()]\n",
    "        data_spec = reshape_as_image(data_band)\n",
    "\n",
    "        # Extract info regarding the transformation of pixel to geo-\n",
    "        # coordinates\n",
    "        transform = data.transform\n",
    "    \n",
    "    # Report that spectral data have been loaded\n",
    "    print('Finished the loading of spectral data.', end='\\n\\n')\n",
    "\n",
    "    # Return the spectral information as well as the transformation matrix\n",
    "    return data_spec, transform"
   ]
  },
  {
   "cell_type": "markdown",
   "metadata": {},
   "source": [
    "Function to import tree top data:"
   ]
  },
  {
   "cell_type": "code",
   "execution_count": 17,
   "metadata": {},
   "outputs": [],
   "source": [
    "# Define a function to load tree top coordinates\n",
    "def load_treetop_coordinates(path):\n",
    "\n",
    "    # Report that tree coordinates will be loaded\n",
    "    print('Started the loading of tree coordinates.', end='\\n')\n",
    "\n",
    "    # Import data that contains the coordinate information on each detected \n",
    "    # tree top; needs to be a .csv file with two columns for the first,\n",
    "    # x coordinates and second, y coordinates\n",
    "    ttc_df = pd.read_csv(path)\n",
    "\n",
    "    # Report that tree coordinates have been loaded\n",
    "    print('Finished the loading of tree coordinates.', end='\\n\\n')\n",
    "    \n",
    "    # Return the dataframe with tree top coordinates\n",
    "    return ttc_df"
   ]
  },
  {
   "cell_type": "markdown",
   "metadata": {},
   "source": [
    "Function to translate coordinates of the tree tops to pixel coordinates:"
   ]
  },
  {
   "cell_type": "code",
   "execution_count": 18,
   "metadata": {},
   "outputs": [],
   "source": [
    "# Define a function to translate geo-coordinates to pixel coordinates\n",
    "def pixel_coordinate_translation(ttc_df, transform):\n",
    "\n",
    "    # Report that geo coordinates will be translated to pixel coordinates\n",
    "    print('Started the translation of tree coordinates from geo to pixel.',\n",
    "          end='\\n')\n",
    "    \n",
    "    # Create two new columns in the tree top coordinate data frame that will\n",
    "    # contain the pixel coordinate information\n",
    "    ttc_df['x_pix'] = np.full(ttc_df.shape[0], fill_value=np.nan)\n",
    "    ttc_df['y_pix'] = np.full(ttc_df.shape[0], fill_value=np.nan)\n",
    "\n",
    "    # Loop through the coordinates of all tree tops\n",
    "    for i, row in ttc_df.iterrows():\n",
    "\n",
    "        # Extract the coordinate information of a single tree top\n",
    "        longitude = row['X'] # changed here\n",
    "        latitude = row['Y'] # changed here\n",
    "\n",
    "        # Translate the coordinate to a pixel coordinate\n",
    "        y_pix, x_pix = ~transform * (longitude, latitude)\n",
    "\n",
    "        # Add the pixel coordinates to the data frame\n",
    "        ttc_df.loc[i,'x_pix'] = x_pix\n",
    "        ttc_df.loc[i,'y_pix'] = y_pix\n",
    "\n",
    "        # Report progress each time after 1000 tree top coordinates have been\n",
    "        # translated\n",
    "        if (((i+1)%1000) == 0) and (((i+1)%10000) > 0):\n",
    "            print('.', end='')\n",
    "        elif (((i+1)%10000) == 0):\n",
    "            print('; ' + str(i+1) + ' tree coordinates have been ' + \n",
    "                'translated (' + str((100*i)//ttc_df.shape[0]) + '%)', \n",
    "                end='\\n')\n",
    "        elif ((i+1) == ttc_df.shape[0]):\n",
    "            print('; ' + str(i+1) + ' tree coordinates have been ' + \n",
    "                'translated (' + str(100) + '%)', end='\\n')\n",
    "\n",
    "    # Report that geo coordinates have been translated to pixel coordinates\n",
    "    print('Finished the translation of tree coordinates from geo to pixel.',\n",
    "          end='\\n\\n')\n",
    "\n",
    "    # Return the pixel coordinates that have been added to the dataframe\n",
    "    return ttc_df"
   ]
  },
  {
   "cell_type": "markdown",
   "metadata": {},
   "source": [
    "Function to extract image boxes around each tree top pixel coordinate:"
   ]
  },
  {
   "cell_type": "code",
   "execution_count": 19,
   "metadata": {},
   "outputs": [],
   "source": [
    "# Define a function to extract image boxes around tree top pixel coordinates\n",
    "def extract_treetop_imageboxes(ttc_df, data_spec):\n",
    "\n",
    "    # Report that image boxes will be extracted from the spectral data\n",
    "    print('Started the extraction of image boxes.', end='\\n')\n",
    "\n",
    "    # Define the size of the box as an odd number to center it on the exact\n",
    "    # tree top pixel coordinate\n",
    "    box_size = 35\n",
    "\n",
    "    # Define an array that will contain all box images\n",
    "    tt_box_img = np.full((ttc_df.shape[0], box_size, box_size, 4), \\\n",
    "                        fill_value=np.nan)\n",
    "\n",
    "    # Iterate through all rows of the tree top pixel coordinates\n",
    "    for i, row in ttc_df.iterrows():\n",
    "\n",
    "        # Get the pixel coordinate of the tree top\n",
    "        x_ttpc = int(row['x_pix'])\n",
    "        y_ttpc = int(row['y_pix'])\n",
    "\n",
    "        # Define the pixel coordinate limits of the image\n",
    "        x_max_img = int(data_spec.shape[0])\n",
    "        y_max_img = int(data_spec.shape[1])\n",
    "\n",
    "        # Define the pixel coordinates of the box\n",
    "        y_min_box = y_ttpc - box_size//2\n",
    "        y_max_box = y_ttpc + box_size//2 + 1\n",
    "        x_min_box = x_ttpc - box_size//2\n",
    "        x_max_box = x_ttpc + box_size//2 + 1\n",
    "\n",
    "        # Check whether the box stays inside of the image limits\n",
    "        if (y_min_box >= 0) and (y_max_box <= y_max_img) and \\\n",
    "        (x_min_box >= 0) and (x_max_box <= x_max_img):\n",
    "            \n",
    "            # Extract the box image\n",
    "            box_img = data_spec[x_min_box:x_max_box,y_min_box:y_max_box,:]\n",
    "\n",
    "            # Check whether all pixels in the box contain information\n",
    "            if np.all(np.sum(box_img, axis=2) > 0, axis=(0,1)):\n",
    "\n",
    "                # Save the image for further processing\n",
    "                tt_box_img[i,:,:,:] = box_img\n",
    "\n",
    "        # Report progress each time after 1000 boxes have been extracted\n",
    "        if (((i+1)%1000) == 0) and (((i+1)%10000) > 0):\n",
    "            print('.', end='')\n",
    "        elif (((i+1)%10000) == 0):\n",
    "            print('; ' + str(i+1) + ' trees have been processed (' + \n",
    "                str((100*i)//ttc_df.shape[0]) + '%)', end='\\n')\n",
    "        elif ((i+1) == ttc_df.shape[0]):\n",
    "            print('; ' + str(i+1) + ' trees have been processed (' + \n",
    "                str(100) + '%)', end='\\n')\n",
    "            \n",
    "    # Report that image boxes have been extracted from the spectral data\n",
    "    print('Finished the extraction of image boxes.', end='\\n\\n')\n",
    "\n",
    "    # Return the array containing all image boxes placed around tree tops\n",
    "    return tt_box_img"
   ]
  },
  {
   "cell_type": "markdown",
   "metadata": {},
   "source": [
    "Function to calculate the normalized differentiated vegetation index (NDVI):"
   ]
  },
  {
   "cell_type": "code",
   "execution_count": 20,
   "metadata": {},
   "outputs": [],
   "source": [
    "# Create an image for displaying a biomass index, using the property of the\n",
    "# red channel that reflects the degree of chlorophyll pigments and the\n",
    "# reflection degree of plants reflected in the near-infrared channel\n",
    "# https://tinyurl.com/a9r5dhft\n",
    "\n",
    "# Define a function to calculate the ndvi\n",
    "def calculate_ndvi(ttc_df, tt_box_img_summer, tt_box_img_winter):\n",
    "\n",
    "    # Report that ndvi scores will be calculated\n",
    "    print('Started the calculation of ndvi scores.', end='\\n')    \n",
    "\n",
    "    # Calculate the ndvi for the summer\n",
    "    ndvi_summer = ((tt_box_img_summer[:,:,:,3] - tt_box_img_summer[:,:,:,0]) / \n",
    "                (tt_box_img_summer[:,:,:,3] + tt_box_img_summer[:,:,:,0]))\n",
    "\n",
    "    # Calculate the summer average\n",
    "    ndvi_summer_avg = np.mean(ndvi_summer, axis=(1,2))\n",
    "\n",
    "    # Calculate the ndvi for the winter\n",
    "    ndvi_winter = ((tt_box_img_winter[:,:,:,3] - tt_box_img_winter[:,:,:,0]) / \n",
    "                (tt_box_img_winter[:,:,:,3] + tt_box_img_winter[:,:,:,0]))\n",
    "\n",
    "    # Calculate the winter average\n",
    "    ndvi_winter_avg = np.mean(ndvi_winter, axis=(1,2))\n",
    "\n",
    "    # Calculate the difference between summer and winter\n",
    "    ndvi_avg_diff = ndvi_summer_avg - ndvi_winter_avg\n",
    "\n",
    "    # Append information to the data frame\n",
    "    ttc_df['ndvi_summer_avg'] = ndvi_summer_avg\n",
    "    ttc_df['ndvi_winter_avg'] = ndvi_winter_avg\n",
    "    ttc_df['ndvi_diff_avg']   = ndvi_avg_diff\n",
    "\n",
    "    # Report that ndvi scores have been calculated\n",
    "    print('Finished the calculation of ndvi scores.', end='\\n\\n')  \n",
    "\n",
    "    # Return the ttc_df as well as arrays of ndvi\n",
    "    return ttc_df, ndvi_summer, ndvi_winter"
   ]
  },
  {
   "cell_type": "markdown",
   "metadata": {},
   "source": [
    "Function to find a decision boundary to distinguish conifers from deciduous:"
   ]
  },
  {
   "cell_type": "code",
   "execution_count": 21,
   "metadata": {},
   "outputs": [],
   "source": [
    "# Define a function that performs a distinction between conifers and\n",
    "# deciduous\n",
    "def check_for_deciduous(ttc_df):\n",
    "\n",
    "    # Report that tree tops will be assigned to either conifers or deciduous\n",
    "    print('Started the distinction between conifers and deciduous.',\n",
    "          end='\\n')\n",
    "\n",
    "    # Define a threshold for classifying a conifer and hence drop its tree\n",
    "    # top from erroneously assigning it to be a deciduous\n",
    "    thresh = .45\n",
    "\n",
    "    # Add to the tree top coordinates the information whether the full image\n",
    "    # contains information\n",
    "    ttc_df['img_complete'] = (np.isnan(ttc_df['ndvi_diff_avg']) == False)\n",
    "\n",
    "    # Report on how many tree tops have a complete image information\n",
    "    print(str(round(100*np.mean(ttc_df['img_complete']))) + \n",
    "          '% of all tree tops have been marked to be part of a ' + \n",
    "          'complete image.')\n",
    "    \n",
    "    # Add to the tree top coordinates the information whether it contains\n",
    "    # a deciduous\n",
    "    ttc_df['img_deciduous'] = ttc_df['ndvi_diff_avg'] > thresh\n",
    "\n",
    "    # Report on how many tree tops have been classified as deciduous trees\n",
    "    print(str(round(100*np.mean(ttc_df['img_deciduous']))) +\n",
    "          '% of all tree tops have been marked as being deciduous.')\n",
    "\n",
    "    # Report that tree tops have been assigned to either conifers or\n",
    "    # deciduous\n",
    "    print('Finished the distinction between conifers and deciduous.',\n",
    "          end='\\n\\n')\n",
    "    \n",
    "    # Return the data frame that already contains the tree top coordinates, \n",
    "    # now with the additional ndvi information\n",
    "    return ttc_df"
   ]
  },
  {
   "cell_type": "markdown",
   "metadata": {},
   "source": [
    "### Getting Deciduous Trees"
   ]
  },
  {
   "cell_type": "markdown",
   "metadata": {},
   "source": [
    "Execute all functions to distinguish between conifers and deciduous and save results in a CSV file:"
   ]
  },
  {
   "cell_type": "code",
   "execution_count": 22,
   "metadata": {},
   "outputs": [
    {
     "name": "stdout",
     "output_type": "stream",
     "text": [
      "\n",
      "Processing has started!\n",
      "\n",
      "Started the loading of spectral data.\n",
      "Finished the loading of spectral data.\n",
      "\n",
      "Started the loading of spectral data.\n",
      "Finished the loading of spectral data.\n",
      "\n",
      "Started the loading of tree coordinates.\n",
      "Finished the loading of tree coordinates.\n",
      "\n",
      "Started the translation of tree coordinates from geo to pixel.\n",
      ".........; 10000 tree coordinates have been translated (22%)\n",
      ".........; 20000 tree coordinates have been translated (45%)\n",
      ".........; 30000 tree coordinates have been translated (67%)\n",
      ".........; 40000 tree coordinates have been translated (90%)\n",
      "....; 44410 tree coordinates have been translated (100%)\n",
      "Finished the translation of tree coordinates from geo to pixel.\n",
      "\n",
      "Started the extraction of image boxes.\n",
      ".........; 10000 trees have been processed (22%)\n",
      ".........; 20000 trees have been processed (45%)\n",
      ".........; 30000 trees have been processed (67%)\n",
      ".........; 40000 trees have been processed (90%)\n",
      "....; 44410 trees have been processed (100%)\n",
      "Finished the extraction of image boxes.\n",
      "\n",
      "Started the extraction of image boxes.\n",
      ".........; 10000 trees have been processed (22%)\n",
      ".........; 20000 trees have been processed (45%)\n",
      ".........; 30000 trees have been processed (67%)\n",
      ".........; 40000 trees have been processed (90%)\n",
      "....; 44410 trees have been processed (100%)\n",
      "Finished the extraction of image boxes.\n",
      "\n",
      "Started the calculation of ndvi scores.\n",
      "Finished the calculation of ndvi scores.\n",
      "\n",
      "Started the distinction between conifers and deciduous.\n",
      "89% of all tree tops have been marked to be part of a complete image.\n",
      "16% of all tree tops have been marked as being deciduous.\n",
      "Finished the distinction between conifers and deciduous.\n",
      "\n",
      "Processing has finished!\n"
     ]
    }
   ],
   "source": [
    "# Announce that processing has started\n",
    "print('\\nProcessing has started!', end='\\n\\n')\n",
    "\n",
    "# Load spectral data from the summer\n",
    "summer_spec, transform = \\\n",
    "    load_raster_data('./data/NDVI/TDOP_2022_weg30m.tif')\n",
    "\n",
    "# Load spectral data from the winter\n",
    "winter_spec, transform = \\\n",
    "    load_raster_data('./data/NDVI/TDOP_2021_weg30m.tif')\n",
    "\n",
    "# Load the tree top coordinates\n",
    "ttc_df = load_treetop_coordinates('./data/tree_top_coordinates_all.csv')\n",
    "\n",
    "# Translate geo coordinates of tree tops to pixel coordinates and add them\n",
    "# to the previous data frame\n",
    "ttc_df = pixel_coordinate_translation(ttc_df, transform)\n",
    "\n",
    "# Extract image boxes around tree top coordinates for the summer data\n",
    "tt_box_img_summer = extract_treetop_imageboxes(ttc_df, summer_spec)\n",
    "\n",
    "# Extract image boxes around tree top coordinates for the winter data\n",
    "tt_box_img_winter = extract_treetop_imageboxes(ttc_df, winter_spec)\n",
    "\n",
    "# Calculate the ndvi\n",
    "ttc_df, ndvi_summer, ndvi_winter = \\\n",
    "    calculate_ndvi(ttc_df, tt_box_img_summer, tt_box_img_winter)\n",
    "\n",
    "# Add the nvdi information to the data frame and classify tree tops to\n",
    "# either belong to conifers or deciduous\n",
    "ttc_df = check_for_deciduous(ttc_df)\n",
    "\n",
    "# Save the tree top data frame\n",
    "ttc_df.to_csv('./data/tree_top_coordinates_deciduous.csv', index=False)\n",
    "\n",
    "# Announce that processing has finished\n",
    "print('Processing has finished!', end='\\n')"
   ]
  },
  {
   "cell_type": "markdown",
   "metadata": {},
   "source": [
    "Plot the NDVI for summer, winter and their difference:"
   ]
  },
  {
   "cell_type": "code",
   "execution_count": 23,
   "metadata": {},
   "outputs": [
    {
     "data": {
      "image/png": "[encoded data removed]",
      "text/plain": [
       "<Figure size 1500x500 with 3 Axes>"
      ]
     },
     "metadata": {},
     "output_type": "display_data"
    }
   ],
   "source": [
    "fig, ax = plt.subplots(1, 3, figsize=(15, 5))\n",
    "\n",
    "# Plot the ndvi for the summer\n",
    "fig0 = sns.histplot(ttc_df['ndvi_summer_avg'], ax=ax[0], bins=100,\n",
    "                    binrange=(-1,1))\n",
    "ax[0].set_xlim(-.4, 1)\n",
    "ax[0].set_ylim(0, 5000)\n",
    "fig0.set(xticks=np.arange(-.2,1.0,.2))\n",
    "fig0.set(xlabel='NDVI - Summer');\n",
    "\n",
    "# Plot the ndvi for the winter\n",
    "fig1 = sns.histplot(ttc_df['ndvi_winter_avg'], ax=ax[1], bins=100,\n",
    "                    binrange=(-1,1))\n",
    "ax[1].set_xlim(-.4, 1)\n",
    "ax[1].set_ylim(0, 5000)\n",
    "fig1.set(xticks=np.arange(-.2,1.0,.2))\n",
    "fig1.set(xlabel='NDVI - Winter');\n",
    "\n",
    "# Plot the ndvi for the summer-winter\n",
    "fig2 = sns.histplot(ttc_df['ndvi_diff_avg'], ax=ax[2], bins=100,\n",
    "                    binrange=(-1,1))\n",
    "ax[2].set_xlim(-.4, 1)\n",
    "ax[2].set_ylim(0, 5000)\n",
    "fig2.set(xticks=np.arange(-.2,1.0,.2))\n",
    "fig2.set(xlabel='NDVI - difference');\n",
    "\n",
    "plt.tight_layout()\n",
    "plt.show()"
   ]
  },
  {
   "cell_type": "markdown",
   "metadata": {},
   "source": [
    "Plot the NDVI only for the difference summer - winter:"
   ]
  },
  {
   "cell_type": "code",
   "execution_count": 24,
   "metadata": {},
   "outputs": [
    {
     "data": {
      "image/png": "[encoded data removed]",
      "text/plain": [
       "<Figure size 1000x500 with 1 Axes>"
      ]
     },
     "metadata": {},
     "output_type": "display_data"
    }
   ],
   "source": [
    "# Plot the ndvi for the summer-winter\n",
    "plt.rcParams.update({'font.size': 20})\n",
    "fig, ax = plt.subplots(1, 1, figsize=(10,5))\n",
    "fig = sns.histplot(ttc_df['ndvi_diff_avg'])\n",
    "ax.set_xlim(-.4, 1.0)\n",
    "ax.set_ylim(0, 1800)\n",
    "fig.set(xlabel='NDVI difference (summer-winter)')\n",
    "fig.set(xticks=np.arange(-.2, 1, .2));"
   ]
  },
  {
   "cell_type": "markdown",
   "metadata": {},
   "source": [
    "\n",
    "Conclusion from the plot:\n",
    "\n",
    "* Two extrema should be distinguishable by eye. In the original use case: A large extrema formed around .25 while a smaller one formed around .55\n",
    "\n",
    "* Differences closer to zero likely result from NDVI values being similar in summer and winter (conifers) while larger values likely result from NDVI values being larger in summer and smaller in winter (deciduous)\n",
    "\n",
    "* Accordingly, all trees that form the second smaller extrema are the trees that should be included in the upcoming analysis pipeline\n",
    "\n",
    "* Based on the plot, a lower and upper value for the NDVI of deciduous trees must now be defined. In the original use case, this was defined from .35 to .75 \n",
    "\n",
    "* As long as the NDVI difference ranges between these two values (or larger), we will assume that the tree in the box image is a deciduous tree"
   ]
  },
  {
   "cell_type": "markdown",
   "metadata": {},
   "source": [
    "---"
   ]
  },
  {
   "cell_type": "markdown",
   "metadata": {},
   "source": [
    "---"
   ]
  },
  {
   "cell_type": "markdown",
   "metadata": {},
   "source": [
    "## Shifting geo coordinates of labeled trees"
   ]
  },
  {
   "cell_type": "markdown",
   "metadata": {},
   "source": [
    "The general aim of this step is to shift each tree coordinate to the tree top that is closest to it. As it occurs that multiple tree coordinates are shifted to the same treetop, these duplicate assignments need to be handled so that only the assignment with the shortest distance remains."
   ]
  },
  {
   "cell_type": "markdown",
   "metadata": {},
   "source": [
    "Import tree top coordinates:"
   ]
  },
  {
   "cell_type": "code",
   "execution_count": 25,
   "metadata": {},
   "outputs": [],
   "source": [
    "# Load the tree top coordinates\n",
    "ttc_df = pd.read_csv('./data/tree_top_coordinates_deciduous.csv')\n",
    "\n",
    "# Only keep treetops with complete box images and a deciduous tree content\n",
    "ttc_df = ttc_df[(ttc_df['img_complete'] == True) & (ttc_df['img_deciduous'] == True)]\n",
    "\n",
    "# Drop columns that are not important anymore\n",
    "ttc_df = ttc_df[['X', 'Y']] # the geo coordinates of extracted trees are not necessary anymore since we are working with the pixel coordinates\n",
    "\n",
    "# Add an identifier\n",
    "ttc_df['id'] = np.arange(0, ttc_df.shape[0], 1)\n",
    "\n",
    "# Reset the index as rows have been dropped\n",
    "ttc_df.reset_index(drop=True, inplace=True)"
   ]
  },
  {
   "cell_type": "markdown",
   "metadata": {},
   "source": [
    "Import the coordinates of the original but cleaned labeled trees:"
   ]
  },
  {
   "cell_type": "code",
   "execution_count": 26,
   "metadata": {},
   "outputs": [],
   "source": [
    "# Load the tree coordinates\n",
    "tc_df = pd.read_csv('./data/Laubbäume_utm32_cleaned.csv')\n",
    "\n",
    "# Only extract columns that will be relevant in the further processing\n",
    "tc_df = tc_df[['X', 'Y', 'desc']]\n",
    "\n",
    "# Rename columns\n",
    "tc_df.columns = ['x_geo', 'y_geo', 'label']\n",
    "\n",
    "# Check for tree coordinates that are duplicates of each other and throw\n",
    "# them away\n",
    "tc_df = tc_df[tc_df[['x_geo', 'y_geo']].duplicated(keep=False) == False].\\\n",
    "    reset_index(drop=True)\n",
    "\n",
    "# Add a column that delineates lists of previous ids of treetops that it\n",
    "# should have been shifted to but another tree was closer\n",
    "tc_df['prev_shift_id'] = [[] for _ in range(len(tc_df))]\n",
    "\n",
    "# Add a column that contains the id of the treetop that the tree coordinate\n",
    "# is currently shifted to\n",
    "tc_df['last_shift_id'] = [np.nan for _ in range(len(tc_df))]\n",
    "\n",
    "# Add a column that contains the distance of the tree coordinate from the\n",
    "# treetop that it is currently shifted to\n",
    "tc_df['last_distance'] = [np.nan for _ in range(len(tc_df))]"
   ]
  },
  {
   "cell_type": "code",
   "execution_count": 30,
   "metadata": {},
   "outputs": [
    {
     "data": {
      "text/plain": [
       "Index(['x_geo', 'y_geo', 'label', 'prev_shift_id', 'last_shift_id',\n",
       "       'last_distance'],\n",
       "      dtype='object')"
      ]
     },
     "execution_count": 30,
     "metadata": {},
     "output_type": "execute_result"
    }
   ],
   "source": [
    "tc_df.columns"
   ]
  },
  {
   "cell_type": "markdown",
   "metadata": {},
   "source": [
    "Define functions for allocating tree coordinates to treetop coordinates:"
   ]
  },
  {
   "cell_type": "code",
   "execution_count": 28,
   "metadata": {},
   "outputs": [],
   "source": [
    "# Define a function to check whether a list is empty\n",
    "def check_list_empty(lst):\n",
    "    return (np.sum(np.isnan(lst)) > 0)\n",
    "\n",
    "# Define a function to check whether there are any duplicates in a list\n",
    "def check_list_duplicates(lst):\n",
    "    return (len(np.unique(lst)) < len(lst))"
   ]
  },
  {
   "cell_type": "markdown",
   "metadata": {},
   "source": [
    "Perform the allocation of tree coordinates to treetop coordinates:"
   ]
  },
  {
   "cell_type": "code",
   "execution_count": 29,
   "metadata": {},
   "outputs": [
    {
     "ename": "KeyError",
     "evalue": "\"None of [Index(['x_geo', 'y_geo'], dtype='object')] are in the [columns]\"",
     "output_type": "error",
     "traceback": [
      "\u001b[0;31m---------------------------------------------------------------------------\u001b[0m",
      "\u001b[0;31mKeyError\u001b[0m                                  Traceback (most recent call last)",
      "Cell \u001b[0;32mIn[29], line 25\u001b[0m\n\u001b[1;32m     21\u001b[0m ttc_dft \u001b[39m=\u001b[39m ttc_df\u001b[39m.\u001b[39mdrop(tc_hist, axis\u001b[39m=\u001b[39m\u001b[39m0\u001b[39m)\u001b[39m.\u001b[39mreset_index(drop\u001b[39m=\u001b[39m\u001b[39mTrue\u001b[39;00m)\n\u001b[1;32m     23\u001b[0m \u001b[39m# Calculate the distance between this tree coordinate and all\u001b[39;00m\n\u001b[1;32m     24\u001b[0m \u001b[39m# (remaining) treetop coordinates\u001b[39;00m\n\u001b[0;32m---> 25\u001b[0m dist_lst \u001b[39m=\u001b[39m np\u001b[39m.\u001b[39msqrt(np\u001b[39m.\u001b[39msum((ttc_dft[[\u001b[39m'\u001b[39;49m\u001b[39mx_geo\u001b[39;49m\u001b[39m'\u001b[39;49m, \u001b[39m'\u001b[39;49m\u001b[39my_geo\u001b[39;49m\u001b[39m'\u001b[39;49m]] \u001b[39m-\u001b[39m tc) \u001b[39m*\u001b[39m\u001b[39m*\u001b[39m \u001b[39m2\u001b[39m,\n\u001b[1;32m     26\u001b[0m                           axis\u001b[39m=\u001b[39m\u001b[39m1\u001b[39m))\n\u001b[1;32m     28\u001b[0m \u001b[39m# Find the treetop index with the minimum distance\u001b[39;00m\n\u001b[1;32m     29\u001b[0m ind_min \u001b[39m=\u001b[39m np\u001b[39m.\u001b[39margmin(dist_lst)\n",
      "File \u001b[0;32m~/Documents/bff/capstone-project_black-forest-forecasters/.venv/lib/python3.11/site-packages/pandas/core/frame.py:3767\u001b[0m, in \u001b[0;36mDataFrame.__getitem__\u001b[0;34m(self, key)\u001b[0m\n\u001b[1;32m   3765\u001b[0m     \u001b[39mif\u001b[39;00m is_iterator(key):\n\u001b[1;32m   3766\u001b[0m         key \u001b[39m=\u001b[39m \u001b[39mlist\u001b[39m(key)\n\u001b[0;32m-> 3767\u001b[0m     indexer \u001b[39m=\u001b[39m \u001b[39mself\u001b[39;49m\u001b[39m.\u001b[39;49mcolumns\u001b[39m.\u001b[39;49m_get_indexer_strict(key, \u001b[39m\"\u001b[39;49m\u001b[39mcolumns\u001b[39;49m\u001b[39m\"\u001b[39;49m)[\u001b[39m1\u001b[39m]\n\u001b[1;32m   3769\u001b[0m \u001b[39m# take() does not accept boolean indexers\u001b[39;00m\n\u001b[1;32m   3770\u001b[0m \u001b[39mif\u001b[39;00m \u001b[39mgetattr\u001b[39m(indexer, \u001b[39m\"\u001b[39m\u001b[39mdtype\u001b[39m\u001b[39m\"\u001b[39m, \u001b[39mNone\u001b[39;00m) \u001b[39m==\u001b[39m \u001b[39mbool\u001b[39m:\n",
      "File \u001b[0;32m~/Documents/bff/capstone-project_black-forest-forecasters/.venv/lib/python3.11/site-packages/pandas/core/indexes/base.py:5877\u001b[0m, in \u001b[0;36mIndex._get_indexer_strict\u001b[0;34m(self, key, axis_name)\u001b[0m\n\u001b[1;32m   5874\u001b[0m \u001b[39melse\u001b[39;00m:\n\u001b[1;32m   5875\u001b[0m     keyarr, indexer, new_indexer \u001b[39m=\u001b[39m \u001b[39mself\u001b[39m\u001b[39m.\u001b[39m_reindex_non_unique(keyarr)\n\u001b[0;32m-> 5877\u001b[0m \u001b[39mself\u001b[39;49m\u001b[39m.\u001b[39;49m_raise_if_missing(keyarr, indexer, axis_name)\n\u001b[1;32m   5879\u001b[0m keyarr \u001b[39m=\u001b[39m \u001b[39mself\u001b[39m\u001b[39m.\u001b[39mtake(indexer)\n\u001b[1;32m   5880\u001b[0m \u001b[39mif\u001b[39;00m \u001b[39misinstance\u001b[39m(key, Index):\n\u001b[1;32m   5881\u001b[0m     \u001b[39m# GH 42790 - Preserve name from an Index\u001b[39;00m\n",
      "File \u001b[0;32m~/Documents/bff/capstone-project_black-forest-forecasters/.venv/lib/python3.11/site-packages/pandas/core/indexes/base.py:5938\u001b[0m, in \u001b[0;36mIndex._raise_if_missing\u001b[0;34m(self, key, indexer, axis_name)\u001b[0m\n\u001b[1;32m   5936\u001b[0m     \u001b[39mif\u001b[39;00m use_interval_msg:\n\u001b[1;32m   5937\u001b[0m         key \u001b[39m=\u001b[39m \u001b[39mlist\u001b[39m(key)\n\u001b[0;32m-> 5938\u001b[0m     \u001b[39mraise\u001b[39;00m \u001b[39mKeyError\u001b[39;00m(\u001b[39mf\u001b[39m\u001b[39m\"\u001b[39m\u001b[39mNone of [\u001b[39m\u001b[39m{\u001b[39;00mkey\u001b[39m}\u001b[39;00m\u001b[39m] are in the [\u001b[39m\u001b[39m{\u001b[39;00maxis_name\u001b[39m}\u001b[39;00m\u001b[39m]\u001b[39m\u001b[39m\"\u001b[39m)\n\u001b[1;32m   5940\u001b[0m not_found \u001b[39m=\u001b[39m \u001b[39mlist\u001b[39m(ensure_index(key)[missing_mask\u001b[39m.\u001b[39mnonzero()[\u001b[39m0\u001b[39m]]\u001b[39m.\u001b[39munique())\n\u001b[1;32m   5941\u001b[0m \u001b[39mraise\u001b[39;00m \u001b[39mKeyError\u001b[39;00m(\u001b[39mf\u001b[39m\u001b[39m\"\u001b[39m\u001b[39m{\u001b[39;00mnot_found\u001b[39m}\u001b[39;00m\u001b[39m not in index\u001b[39m\u001b[39m\"\u001b[39m)\n",
      "\u001b[0;31mKeyError\u001b[0m: \"None of [Index(['x_geo', 'y_geo'], dtype='object')] are in the [columns]\""
     ]
    }
   ],
   "source": [
    "# Run the following code as long as the list of id allocations is either (1)\n",
    "# empty or (2) contains duplicates\n",
    "while check_list_empty(tc_df['last_shift_id']) or \\\n",
    "      check_list_duplicates(tc_df['last_shift_id']):\n",
    "\n",
    "    # Determine rows that have no treetop allocation\n",
    "    tta_missing = np.where(np.isnan(tc_df['last_shift_id']))\n",
    "\n",
    "    # Loop through all tree coordinates that currently have no treetop\n",
    "    # allocation\n",
    "    for i in tta_missing[0]:\n",
    "\n",
    "        # Extract a single tree coordinate\n",
    "        tc = (tc_df.loc[i,'x_geo'], tc_df.loc[i,'y_geo'])\n",
    "\n",
    "        # Extract the matching history for this tree coordinate\n",
    "        tc_hist = tc_df.loc[i,'prev_shift_id']\n",
    "\n",
    "        # Drop all treetop coordinates that have already been matched with\n",
    "        # this tree coordinate before\n",
    "        ttc_dft = ttc_df.drop(tc_hist, axis=0).reset_index(drop=True)\n",
    "\n",
    "        # Calculate the distance between this tree coordinate and all\n",
    "        # (remaining) treetop coordinates\n",
    "        dist_lst = np.sqrt(np.sum((ttc_dft[['x_geo', 'y_geo']] - tc) ** 2,\n",
    "                                  axis=1))\n",
    "        \n",
    "        # Find the treetop index with the minimum distance\n",
    "        ind_min = np.argmin(dist_lst)\n",
    "\n",
    "        # Add this treetop id to the history of matched treetop ids\n",
    "        tc_df.loc[i,'prev_shift_id'].append(ttc_dft.loc[ind_min,'id'])\n",
    "\n",
    "        # Set the treetop that corresponds to this minimum distance as the\n",
    "        # last shift id\n",
    "        tc_df.loc[i,'last_shift_id'] = ttc_dft.loc[ind_min,'id']\n",
    "\n",
    "        # Save the distance to allow for comparisons later on\n",
    "        tc_df.loc[i,'last_distance'] = dist_lst[ind_min]\n",
    "\n",
    "    # Check for duplicate assignments and summarize the respective treetop\n",
    "    # ids in a list\n",
    "    duplicates = tc_df['last_shift_id'].value_counts().reset_index()\n",
    "    duplicates = \\\n",
    "        duplicates.loc[duplicates['count'] > 1,'last_shift_id'].tolist()\n",
    "\n",
    "    # Loop through each duplicate value\n",
    "    for di in duplicates:\n",
    "        \n",
    "        # Extract indexes for duplicate assignments\n",
    "        duplicates_ind = tc_df['last_shift_id'] == di\n",
    "\n",
    "        # Check for each duplicate treetop coordinate which tree coordinate\n",
    "        # has the closest distance to it\n",
    "        dist_min = tc_df.loc[duplicates_ind, 'last_distance'].min()\n",
    "\n",
    "        # Extract indexes for tree coordinates that do not show that exact\n",
    "        # distance from their assigned treetop\n",
    "        distance_ind = (tc_df['last_distance'] != dist_min)\n",
    "\n",
    "        # Combine indexes to find pairs of tree coordinates and treetops\n",
    "        # that need be unassigned again as they do not show the shortest\n",
    "        # distance between each other\n",
    "        farther_ind = np.where(duplicates_ind & distance_ind)\n",
    "\n",
    "        # Assign these tree coordinates once again an nan so that a new\n",
    "        # treetop can be found for them\n",
    "        tc_df.loc[farther_ind[0],'last_shift_id'] = np.nan\n",
    "        tc_df.loc[farther_ind[0],'last_distance'] = np.nan"
   ]
  },
  {
   "cell_type": "markdown",
   "metadata": {},
   "source": [
    "Assign each tree coordinate its new tree top coordinate:"
   ]
  },
  {
   "cell_type": "code",
   "execution_count": null,
   "metadata": {},
   "outputs": [],
   "source": [
    "# Predefine new columns that will contain the allocated treetop coordinates\n",
    "tc_df['x_geo_new'] = [np.nan for _ in range(len(tc_df))]\n",
    "tc_df['y_geo_new'] = [np.nan for _ in range(len(tc_df))]\n",
    "\n",
    "# Loop through all tree coordinates\n",
    "for i in range(len(tc_df)):\n",
    "\n",
    "    # Assign each tree coordinate its new tree top coordinate\n",
    "    tc_df.loc[i,'x_geo_new'] = \\\n",
    "        ttc_df.loc[tc_df.loc[i,'last_shift_id'],'x_geo']\n",
    "    tc_df.loc[i,'y_geo_new'] = \\\n",
    "        ttc_df.loc[tc_df.loc[i,'last_shift_id'],'y_geo']    \n",
    "\n",
    "# Extract relevant columns and rearrange them\n",
    "tc_df = tc_df[['x_geo', 'x_geo_new', 'y_geo', 'y_geo_new', 'label',\n",
    "               'last_shift_id', 'last_distance']]\n",
    "\n",
    "# Relabel the columns\n",
    "tc_df.columns = ['x_geo', 'x_geo_new', 'y_geo', 'y_geo_new', 'label',\n",
    "                 'treetop_id', 'distance']\n",
    "\n",
    "# Save the resulting data frame\n",
    "tc_df.to_csv('../data/Laubbäume_utm32_shifted.csv', index=False)"
   ]
  },
  {
   "cell_type": "markdown",
   "metadata": {},
   "source": [
    "Plot the resulting distances for shifting tree on treetop coordinates:"
   ]
  },
  {
   "cell_type": "code",
   "execution_count": null,
   "metadata": {},
   "outputs": [],
   "source": [
    "# Plot a histogram comprising all distances but cut at 250 so that outliers\n",
    "# are not considered in scaling the axes\n",
    "sns.histplot(tc_df.loc[tc_df['distance'] < 250, 'distance']);"
   ]
  },
  {
   "cell_type": "code",
   "execution_count": null,
   "metadata": {},
   "outputs": [],
   "source": []
  },
  {
   "cell_type": "code",
   "execution_count": null,
   "metadata": {},
   "outputs": [],
   "source": []
  }
 ],
 "metadata": {
  "kernelspec": {
   "display_name": ".venv",
   "language": "python",
   "name": "python3"
  },
  "language_info": {
   "codemirror_mode": {
    "name": "ipython",
    "version": 3
   },
   "file_extension": ".py",
   "mimetype": "text/x-python",
   "name": "python",
   "nbconvert_exporter": "python",
   "pygments_lexer": "ipython3",
   "version": "3.11.3"
  },
  "orig_nbformat": 4
 },
 "nbformat": 4,
 "nbformat_minor": 2
}
