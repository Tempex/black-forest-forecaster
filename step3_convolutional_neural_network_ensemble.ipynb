{
 "cells": [
  {
   "cell_type": "markdown",
   "metadata": {},
   "source": [
    "## Creating a convolutional neural network (CNN)"
   ]
  },
  {
   "cell_type": "markdown",
   "metadata": {},
   "source": [
    "In this notebook, we will import the information stored as numpy arrays and create train/test and validation data sets. As we have imbalanced data due to the high abundance of beech trees in the data set, we will do data augmentation and oversampling. Next, we crate the structure for the models used for classification and look into the results and accuracy of our best model.\n",
    "\n",
    "While we tested different model structures and number of features, here, we will only report our best model.\n",
    "\n",
    "\n",
    "**Data you need for running this notebook:**\n",
    "\n",
    "Zipped numpy arrays (.npz) with all information, that should be added to the model (such as spectral information and vegetation height)\n",
    "\n",
    "**Content overview:**\n",
    "\n",
    "* [Setup](#Setup)\n",
    "* [Data manipulation](#Data-Manipulation)\n",
    "* [Prepare the data for the model](#Prepare-the-data-for-the-model)\n",
    "* [Create the Ensemble Convolutional Neural Network Model](#Create-the-Ensemble-Convolutional-Neural-Network-Model)\n",
    "* [Additional Information](#Additional-Information)"
   ]
  },
  {
   "cell_type": "markdown",
   "metadata": {},
   "source": [
    "---------"
   ]
  },
  {
   "cell_type": "markdown",
   "metadata": {},
   "source": [
    "---------"
   ]
  },
  {
   "cell_type": "markdown",
   "metadata": {},
   "source": [
    "## Setup"
   ]
  },
  {
   "cell_type": "code",
   "execution_count": 1,
   "metadata": {},
   "outputs": [
    {
     "name": "stderr",
     "output_type": "stream",
     "text": [
      "2023-10-10 17:08:36.217574: I tensorflow/tsl/cuda/cudart_stub.cc:28] Could not find cuda drivers on your machine, GPU will not be used.\n",
      "2023-10-10 17:08:36.260276: I tensorflow/tsl/cuda/cudart_stub.cc:28] Could not find cuda drivers on your machine, GPU will not be used.\n",
      "2023-10-10 17:08:36.261516: I tensorflow/core/platform/cpu_feature_guard.cc:182] This TensorFlow binary is optimized to use available CPU instructions in performance-critical operations.\n",
      "To enable the following instructions: AVX2 FMA, in other operations, rebuild TensorFlow with the appropriate compiler flags.\n",
      "2023-10-10 17:08:37.251407: W tensorflow/compiler/tf2tensorrt/utils/py_utils.cc:38] TF-TRT Warning: Could not find TensorRT\n"
     ]
    }
   ],
   "source": [
    "# Toolboxes for data handling\n",
    "import numpy as np\n",
    "import pandas as pd\n",
    "\n",
    "# Toolboxes for plotting\n",
    "import matplotlib.pyplot as plt\n",
    "import seaborn as sns\n",
    "\n",
    "# Toolboxes for modelling with a neural network\n",
    "import tensorflow as tf\n",
    "\n",
    "# Toolboxes for splitting the data\n",
    "from sklearn.model_selection import train_test_split\n",
    "\n",
    "# Toolboxes for warning handling\n",
    "import warnings"
   ]
  },
  {
   "cell_type": "code",
   "execution_count": 2,
   "metadata": {},
   "outputs": [],
   "source": [
    "# Ignore warnings for this notebook\n",
    "warnings.filterwarnings(\"ignore\")"
   ]
  },
  {
   "cell_type": "markdown",
   "metadata": {},
   "source": [
    "## Import and manipulate data "
   ]
  },
  {
   "cell_type": "markdown",
   "metadata": {},
   "source": [
    "Basis for the modelling are the box images, that have been stored as zipped numpy arrays"
   ]
  },
  {
   "cell_type": "code",
   "execution_count": 3,
   "metadata": {},
   "outputs": [],
   "source": [
    "# Define paths to the data\n",
    "path_spec = './data/TDOP/box_images/TDOP_box_images_2022_weg30m.tif.npz'\n",
    "path_height = './data/LiDAR/box_images/vegheight_box_images_weg30m.tif.npz'\n",
    "path_slope = './data/LiDAR/box_images/slope_box_images_weg30m.tif.npz'\n",
    "path_altitude = './data/LiDAR/box_images/altitude_box_images_weg30m.tif.npz'\n",
    "path_label = './data/Laubbäume_utm32_cleaned.csv'\n",
    "\n",
    "# Load spectral data\n",
    "with np.load(path_spec, allow_pickle=True) as data:\n",
    "    bia_spec = data[\"bia_array\"]\n",
    "\n",
    "# Load vegetation height data\n",
    "with np.load(path_height, allow_pickle=True) as data:\n",
    "    bia_height = data[\"bia_array\"]\n",
    "\n",
    "# Load slope data\n",
    "with np.load(path_slope, allow_pickle=True) as data:\n",
    "    bia_slope = data[\"bia_array\"]\n",
    "\n",
    "# Load altitude data\n",
    "with np.load(path_altitude, allow_pickle=True) as data:\n",
    "    bia_altitude = data[\"bia_array\"]\n",
    "\n",
    "# Load label data, extract only the labels and transform the vector\n",
    "# to an array\n",
    "lbl_array_tmp = np.array(pd.read_csv(path_label).desc)"
   ]
  },
  {
   "cell_type": "markdown",
   "metadata": {},
   "source": [
    "---------"
   ]
  },
  {
   "cell_type": "markdown",
   "metadata": {},
   "source": [
    "---------"
   ]
  },
  {
   "cell_type": "markdown",
   "metadata": {},
   "source": [
    "## Data manipulation"
   ]
  },
  {
   "cell_type": "markdown",
   "metadata": {},
   "source": [
    "### Detect weird occurrences in the data and drop them"
   ]
  },
  {
   "cell_type": "code",
   "execution_count": 4,
   "metadata": {},
   "outputs": [],
   "source": [
    "# Determine weird values in the spectral data\n",
    "# np.unique(bia_spec, return_counts=True)\n",
    "\n",
    "# The spectral data range between 5250 and 65250 but there are\n",
    "# 11552 occurrences with a 0 matching exactly two images 38*38*4\n",
    "\n",
    "# Create identifier for these occurrences\n",
    "ind_spec = np.all(bia_spec == 0, (1,2,3))"
   ]
  },
  {
   "cell_type": "code",
   "execution_count": 5,
   "metadata": {},
   "outputs": [],
   "source": [
    "# Determine weird values in the height data\n",
    "# np.unique(bia_height, return_counts=True)\n",
    "\n",
    "# The height data range between .05 and 44.15 but there are\n",
    "# 200 occurrences with a 0 matching exactly two images 10*10*1\n",
    "\n",
    "# Create identifier for these occurrences\n",
    "ind_height = np.all(bia_height == 0, (1,2))"
   ]
  },
  {
   "cell_type": "code",
   "execution_count": 6,
   "metadata": {},
   "outputs": [],
   "source": [
    "# Determine weird values in the slope data\n",
    "# np.unique(bia_slope, return_counts=True)\n",
    "\n",
    "# The slope ranges between 10 and 85° but there are two occurrences of\n",
    "# -9999 and three with 0\n",
    "\n",
    "# Create identifier for these occurrences\n",
    "ind_slope = bia_slope < 0"
   ]
  },
  {
   "cell_type": "code",
   "execution_count": 7,
   "metadata": {},
   "outputs": [],
   "source": [
    "# Determine weird values in the altitude data\n",
    "# np.unique(bia_altitude, return_counts=True)\n",
    "\n",
    "# The altitude ranges between 630 and 960 meters but there are\n",
    "# two occurrences with a -3250 meters\n",
    "\n",
    "# Create identifier for these occurrences\n",
    "ind_altitude = bia_altitude < 0"
   ]
  },
  {
   "cell_type": "code",
   "execution_count": 8,
   "metadata": {},
   "outputs": [],
   "source": [
    "# Summarize the indicators so that one indication is enough to exclude a tree coordinate\n",
    "ind_incl = ind_spec.astype(int) + ind_height.astype(int) + ind_slope.astype(int) + ind_altitude.astype(int)\n",
    "\n",
    "# Let's exclude all weird occurrences from our data\n",
    "bia_spec = bia_spec[ind_incl == 0]\n",
    "bia_height = bia_height[ind_incl == 0]\n",
    "bia_slope = bia_slope[ind_incl == 0]\n",
    "bia_altitude = bia_altitude[ind_incl == 0]\n",
    "lbl_array_tmp = lbl_array_tmp[ind_incl == 0]\n",
    "\n",
    "# Eventually, only two occurrences and hence two tree coordinates are dropped"
   ]
  },
  {
   "cell_type": "markdown",
   "metadata": {},
   "source": [
    "### Scale the data"
   ]
  },
  {
   "cell_type": "code",
   "execution_count": 9,
   "metadata": {},
   "outputs": [],
   "source": [
    "# Scale the spectral data\n",
    "bia_spec = bia_spec / ((2**16)-1)\n",
    "\n",
    "# Calculate the extreme height values\n",
    "height_min = np.min(bia_height)\n",
    "height_max = np.max(bia_height)\n",
    "\n",
    "# Scale the slope data\n",
    "bia_height = (bia_height - height_min) / (height_max - height_min)\n",
    "\n",
    "# Calculate the extreme slope values\n",
    "slope_min = np.min(bia_slope)\n",
    "slope_max = np.max(bia_slope)\n",
    "\n",
    "# Scale the slope data\n",
    "bia_slope = (bia_slope - slope_min) / (slope_max - slope_min)\n",
    "\n",
    "# Calculate the extreme altitude values\n",
    "altitude_min = np.min(bia_altitude)\n",
    "altitude_max = np.max(bia_altitude)\n",
    "\n",
    "# Scale the altitude data\n",
    "bia_altitude = (bia_altitude - altitude_min) / (altitude_max - altitude_min)"
   ]
  },
  {
   "cell_type": "markdown",
   "metadata": {},
   "source": [
    "Plot example spectral images"
   ]
  },
  {
   "cell_type": "code",
   "execution_count": 10,
   "metadata": {},
   "outputs": [
    {
     "data": {
      "image/png": "[encoded data removed]",
      "text/plain": [
       "<Figure size 640x480 with 1 Axes>"
      ]
     },
     "metadata": {},
     "output_type": "display_data"
    }
   ],
   "source": [
    "# Generate a random number to extract a spectral image\n",
    "ind_rand = np.random.randint(0, bia_spec.shape[0])\n",
    "\n",
    "# Showcase an image of the spectral data\n",
    "plt.imshow(bia_spec[ind_rand,:,:,0:3]);"
   ]
  },
  {
   "cell_type": "markdown",
   "metadata": {},
   "source": [
    "### Assign labels as integers to different trees species"
   ]
  },
  {
   "cell_type": "markdown",
   "metadata": {},
   "source": [
    "As tensorflow prefers integers compared to strings as target values, we transform our labels array. In this array \"1\" indicates a \"Rotbuche\", \"2\" indicates a \"Berg-Ahorn\", \"3\" indicates a \"Haenge-Birke\" and \"0\" indicates a tree belonging to any other three species."
   ]
  },
  {
   "cell_type": "code",
   "execution_count": 11,
   "metadata": {},
   "outputs": [],
   "source": [
    "# New indicator array filled with 0s\n",
    "lbl_array = np.zeros_like(lbl_array_tmp)\n",
    "\n",
    "# Loop through each label\n",
    "for i in range(len(lbl_array_tmp)):\n",
    "    \n",
    "    # Assign a 1 if it is a Rotbuche\n",
    "    if lbl_array_tmp[i] == 'Rotbuche':\n",
    "        lbl_array[i] = 1\n",
    "\n",
    "    # Assign a 2 if it is a Berg-Ahorn    \n",
    "    elif lbl_array_tmp[i] == 'Berg-Ahorn':\n",
    "        lbl_array[i] = 2\n",
    "\n",
    "    # Assign a 3 if it is a Haenge-Birke\n",
    "    elif lbl_array_tmp[i] == 'Haenge-Birke':\n",
    "        lbl_array[i] = 3\n",
    "    \n",
    "# Change the type of the array from \"obj\" to \"int\"\n",
    "lbl_array = lbl_array.astype('int')"
   ]
  },
  {
   "cell_type": "markdown",
   "metadata": {},
   "source": [
    "---------"
   ]
  },
  {
   "cell_type": "markdown",
   "metadata": {},
   "source": [
    "---------"
   ]
  },
  {
   "cell_type": "markdown",
   "metadata": {},
   "source": [
    "## Prepare the data for the model"
   ]
  },
  {
   "cell_type": "markdown",
   "metadata": {},
   "source": [
    "### Split the data into a train, test and validation set"
   ]
  },
  {
   "cell_type": "code",
   "execution_count": 12,
   "metadata": {},
   "outputs": [],
   "source": [
    "# Create as many indices as there are trees (irrespective of years)\n",
    "ind = np.arange(0, len(lbl_array), 1)\n",
    "\n",
    "# Split the indices into a train and temporary test set\n",
    "train_ind, test_ind_tmp, train_lbl, test_lbl_tmp = \\\n",
    "    train_test_split(ind, lbl_array, train_size=0.8, stratify=lbl_array, random_state=42)\n",
    "\n",
    "# Split the temporary test indices once again into a test and validation set\n",
    "test_ind, val_ind, test_lbl, val_lbl = \\\n",
    "    train_test_split(test_ind_tmp, test_lbl_tmp, train_size=0.5, stratify=test_lbl_tmp, random_state=42)\n",
    "\n",
    "# Extract images and labels for the train data set using the train indices\n",
    "train_spec = bia_spec[train_ind,:,:,:]\n",
    "train_height = bia_height[train_ind,:,:]\n",
    "train_slope = bia_slope[train_ind]\n",
    "train_altitude = bia_altitude[train_ind]\n",
    "train_label = lbl_array[train_ind]\n",
    "\n",
    "# Extract images and labels for the test data set using the test indices\n",
    "test_spec = bia_spec[test_ind,:,:,:]\n",
    "test_height = bia_height[test_ind,:,:]\n",
    "test_slope = bia_slope[test_ind]\n",
    "test_altitude = bia_altitude[test_ind]\n",
    "test_label = lbl_array[test_ind]\n",
    "\n",
    "# Extract images and labels for the validation data set using the validation indices\n",
    "val_spec = bia_spec[val_ind,:,:,:]\n",
    "val_height = bia_height[val_ind,:,:]\n",
    "val_slope = bia_slope[val_ind]\n",
    "val_altitude = bia_altitude[val_ind]\n",
    "val_label = lbl_array[val_ind]"
   ]
  },
  {
   "cell_type": "markdown",
   "metadata": {},
   "source": [
    "### Perform data augmentation\n"
   ]
  },
  {
   "cell_type": "markdown",
   "metadata": {},
   "source": [
    "To deal with the low sample size of the data set, we will create variations of the existing images, called augmentation.\n",
    "\n",
    "We only perform flips and 90° rotations as other augmentations may interfere with vital information in the image - let's  be crazy and flip and rotate all images in all possible combinations (x12). We first create a function for this:"
   ]
  },
  {
   "cell_type": "code",
   "execution_count": 13,
   "metadata": {},
   "outputs": [],
   "source": [
    "# Define a function that takes a dataset of images and augments each image\n",
    "# once in a certain way\n",
    "def augment_images(img_array):\n",
    "\n",
    "    # Predefine an array that will contain the augmented images\n",
    "    img_array_full = np.tile(img_array, (12,1,1,1,1))\n",
    "\n",
    "    # Loop through each image\n",
    "    for i in range(img_array.shape[0]):\n",
    "\n",
    "        # Augmentation number 0: Nothing\n",
    "        img_aug = img_array_full[0,i]\n",
    "        img_array_full[0,i] = img_aug\n",
    "\n",
    "        # Augmentation number 1: 90° rotation        \n",
    "        img_aug = tf.image.rot90(img_array[i], k=1).numpy()\n",
    "        img_array_full[1,i] = img_aug\n",
    "\n",
    "        # Augmentation number 2: 90° rotation + vertical flip\n",
    "        img_aug = tf.image.rot90(img_array[i], k=1).numpy()\n",
    "        img_aug = tf.image.flip_up_down(img_aug).numpy()\n",
    "        img_array_full[2,i] = img_aug\n",
    "\n",
    "        # Augmentation number 3: 90° rotation + horizontal flip\n",
    "        img_aug = tf.image.rot90(img_array[i], k=1).numpy()\n",
    "        img_aug = tf.image.flip_left_right(img_aug).numpy()\n",
    "        img_array_full[3,i] = img_aug\n",
    "\n",
    "        # Augmentation number 4: 90° rotation + vertical flip +\n",
    "        # horizontal flip\n",
    "        img_aug = tf.image.rot90(img_array[i], k=1).numpy()\n",
    "        img_aug = tf.image.flip_up_down(img_aug).numpy()\n",
    "        img_aug = tf.image.flip_left_right(img_aug).numpy()\n",
    "        img_array_full[4,i] = img_aug\n",
    "\n",
    "        # Augmentation number 5: 270° rotation\n",
    "        img_aug = tf.image.rot90(img_array[i], k=3).numpy()\n",
    "        img_array_full[5,i] = img_aug\n",
    "\n",
    "        # Augmentation number 6: 270° rotation + vertical flip\n",
    "        img_aug = tf.image.rot90(img_array[i], k=3).numpy()\n",
    "        img_aug = tf.image.flip_up_down(img_aug).numpy()\n",
    "        img_array_full[6,i] = img_aug\n",
    "\n",
    "        # Augmentation number 7: 90° rotation + horizontal flip\n",
    "        img_aug = tf.image.rot90(img_array[i], k=3).numpy()\n",
    "        img_aug = tf.image.flip_left_right(img_aug).numpy()\n",
    "        img_array_full[7,i] = img_aug\n",
    "\n",
    "        # Augmentation number 8: 270° rotation + vertical flip +\n",
    "        # horizontal flip\n",
    "        img_aug = tf.image.rot90(img_array[i], k=3).numpy()\n",
    "        img_aug = tf.image.flip_up_down(img_aug).numpy()\n",
    "        img_aug = tf.image.flip_left_right(img_aug).numpy()\n",
    "        img_array_full[8,i] = img_aug\n",
    "\n",
    "        # Augmentation number 9: vertical flip + horizontal flip\n",
    "        img_aug = tf.image.flip_up_down(img_array[i]).numpy()\n",
    "        img_aug = tf.image.flip_left_right(img_aug).numpy()\n",
    "        img_array_full[9,i] = img_aug\n",
    "\n",
    "        # Augmentation number 10: vertical flip\n",
    "        img_aug = tf.image.flip_up_down(img_array[i]).numpy()\n",
    "        img_array_full[10,i] = img_aug\n",
    "\n",
    "        # Augmentation number 11: horizontal flip\n",
    "        img_aug = tf.image.flip_left_right(img_array[i]).numpy()\n",
    "        img_array_full[11,i] = img_aug\n",
    "\n",
    "        # Report progress\n",
    "        if (i+1) == img_array.shape[0]:\n",
    "            print(' - ' + str(100) + \n",
    "                '% of all images have been augmented.')\n",
    "        elif (i%100 == 0) & (i != 0):\n",
    "            print(' - ' + str(round(100*i/img_array.shape[0])) + \n",
    "                '% of all images have been augmented.')\n",
    "        elif (i%10 == 0) & (i != 0):\n",
    "            print('.', end='')\n",
    "        \n",
    "    # Return the augmented dataset\n",
    "    return img_array_full\n"
   ]
  },
  {
   "cell_type": "markdown",
   "metadata": {},
   "source": [
    "Let´s use the function for augmentation:"
   ]
  },
  {
   "cell_type": "code",
   "execution_count": 14,
   "metadata": {},
   "outputs": [
    {
     "name": "stdout",
     "output_type": "stream",
     "text": [
      "Started the augmentation of the spectral training images\n"
     ]
    },
    {
     "name": "stderr",
     "output_type": "stream",
     "text": [
      "2023-10-10 17:08:39.897235: I tensorflow/compiler/xla/stream_executor/cuda/cuda_gpu_executor.cc:981] could not open file to read NUMA node: /sys/bus/pci/devices/0000:01:00.0/numa_node\n",
      "Your kernel may have been built without NUMA support.\n",
      "2023-10-10 17:08:39.897713: W tensorflow/core/common_runtime/gpu/gpu_device.cc:1960] Cannot dlopen some GPU libraries. Please make sure the missing libraries mentioned above are installed properly if you would like to use GPU. Follow the guide at https://www.tensorflow.org/install/gpu for how to download and setup the required libraries for your platform.\n",
      "Skipping registering GPU devices...\n"
     ]
    },
    {
     "name": "stdout",
     "output_type": "stream",
     "text": [
      "......... - 7% of all images have been augmented.\n",
      "......... - 15% of all images have been augmented.\n",
      "......... - 22% of all images have been augmented.\n",
      "......... - 29% of all images have been augmented.\n",
      "......... - 37% of all images have been augmented.\n",
      "......... - 44% of all images have been augmented.\n",
      "......... - 51% of all images have been augmented.\n",
      "......... - 59% of all images have been augmented.\n",
      "......... - 66% of all images have been augmented.\n",
      "......... - 74% of all images have been augmented.\n",
      "......... - 81% of all images have been augmented.\n",
      "......... - 88% of all images have been augmented.\n",
      "......... - 96% of all images have been augmented.\n",
      "..... - 100% of all images have been augmented.\n",
      "Finished the augmentation of the spectral training images\n",
      "\n",
      "\n",
      "Started the augmentation of the vegetation height training images\n",
      "......... - 7% of all images have been augmented.\n",
      "......... - 15% of all images have been augmented.\n",
      "......... - 22% of all images have been augmented.\n",
      "......... - 29% of all images have been augmented.\n",
      "......... - 37% of all images have been augmented.\n",
      "......... - 44% of all images have been augmented.\n",
      "......... - 51% of all images have been augmented.\n",
      "......... - 59% of all images have been augmented.\n",
      "......... - 66% of all images have been augmented.\n",
      "......... - 74% of all images have been augmented.\n",
      "......... - 81% of all images have been augmented.\n",
      "......... - 88% of all images have been augmented.\n",
      "......... - 96% of all images have been augmented.\n",
      "..... - 100% of all images have been augmented.\n",
      "Finished the augmentation of the vegetation height training images\n",
      "\n",
      "\n",
      "Started the \"augmentation\" of the slope training data\n",
      "Finished the augmentation of the slope training data\n",
      "\n",
      "\n",
      "Started the \"augmentation\" of the altitude training data\n",
      "Finished the \"augmentation\" of the altitude training data\n",
      "\n",
      "\n",
      "Started the \"augmentation\" of the label training data\n",
      "Finished the \"augmentation\" of the label training data\n"
     ]
    }
   ],
   "source": [
    "# Augment spectral data\n",
    "print('Started the augmentation of the spectral training images')\n",
    "train_spec_aug = augment_images(train_spec)\n",
    "train_spec_aug = np.reshape(train_spec_aug, (-1, train_spec.shape[1], train_spec.shape[2], train_spec.shape[3]))\n",
    "print('Finished the augmentation of the spectral training images')\n",
    "\n",
    "# Augment height data (you need to add a singular channel dimension\n",
    "# as tensorflow's augmentation functions will not function otherwise)\n",
    "print('\\n\\nStarted the augmentation of the vegetation height training images')\n",
    "train_height_aug = augment_images(train_height[:,:,:,np.newaxis])\n",
    "train_height_aug = np.reshape(train_height_aug, (-1, train_height.shape[1], train_height.shape[2], 1))\n",
    "print('Finished the augmentation of the vegetation height training images')\n",
    "\n",
    "# Augment slope data\n",
    "print('\\n\\nStarted the \"augmentation\" of the slope training data')\n",
    "train_slope_aug = np.tile(train_slope, (12,1))\n",
    "train_slope_aug = np.reshape(train_slope_aug, (-1))\n",
    "print('Finished the augmentation of the slope training data')\n",
    "\n",
    "# Augment altitude data\n",
    "print('\\n\\nStarted the \"augmentation\" of the altitude training data')\n",
    "train_altitude_aug = np.tile(train_altitude, (12,1))\n",
    "train_altitude_aug = np.reshape(train_altitude_aug, (-1))\n",
    "print('Finished the \"augmentation\" of the altitude training data')\n",
    "\n",
    "# Augment label data\n",
    "print('\\n\\nStarted the \"augmentation\" of the label training data')\n",
    "train_lbl_aug = np.tile(train_lbl, (12,1))\n",
    "train_lbl_aug = np.reshape(train_lbl_aug, (-1))\n",
    "print('Finished the \"augmentation\" of the label training data')"
   ]
  },
  {
   "cell_type": "markdown",
   "metadata": {},
   "source": [
    "### Deal with class imbalance"
   ]
  },
  {
   "cell_type": "markdown",
   "metadata": {},
   "source": [
    "As we have highly imbalanced data with 55% beech trees dominating the dataset, we explored different approaches to deal with imbalanced data. We tested and compared:\n",
    "- Weighted classes\n",
    "- Oversampling\n",
    "- Undersampling\n",
    "\n",
    "**Oversampling** worked best for our data as there are not enough data overall to perform undersampling. In addition, it seemed that adding weighted classes introduced a further bias that did not diminish the previous bias of a data imbalance."
   ]
  },
  {
   "cell_type": "markdown",
   "metadata": {},
   "source": [
    "Here, we will randomly draw from the pool of original and augemented images to increase the sample sizes of the minorty classes, until the same size as for the majority class is reached."
   ]
  },
  {
   "cell_type": "code",
   "execution_count": 15,
   "metadata": {},
   "outputs": [],
   "source": [
    "# Calculate the frequency of each class in the data\n",
    "_, n_all = np.unique(train_lbl_aug, return_counts=True)\n",
    "\n",
    "# Determine the class with the most data\n",
    "n_max = np.max(n_all)\n",
    "\n",
    "# Generate a new array that will contain the over-sampled results\n",
    "train_spec_ao = train_spec_aug.copy()\n",
    "train_height_ao = train_height_aug.copy()\n",
    "train_slope_ao = train_slope_aug.copy()\n",
    "train_altitude_ao = train_altitude_aug.copy()\n",
    "train_lbl_ao = train_lbl_aug.copy()\n",
    "\n",
    "# Loop through all class categories\n",
    "for i in range(len(n_all)):\n",
    "\n",
    "    # Extract the frequency of this class\n",
    "    n_class = n_all[i]\n",
    "\n",
    "    # Execute this code if this is not the class with the highest\n",
    "    # frequency\n",
    "    if (n_class < n_max):\n",
    "\n",
    "        # Extract only data of this class\n",
    "        class_spec = train_spec_aug[train_lbl_aug == i]\n",
    "        class_height = train_height_aug[train_lbl_aug == i]\n",
    "        class_slope = train_slope_aug[train_lbl_aug == i]\n",
    "        class_altitude = train_altitude_aug[train_lbl_aug == i]\n",
    "        class_lbl = train_lbl_aug[train_lbl_aug == i]\n",
    "\n",
    "        # Generate as many random integers as there are in the class\n",
    "        # category with the highest frequency minus the number of already\n",
    "        # existing images for this class category\n",
    "        rand_ind = np.random.randint(0, len(class_lbl)-1, n_max - n_class)\n",
    "\n",
    "        # Draw random data from the existing data\n",
    "        rand_spec = class_spec[rand_ind,:,:,:]\n",
    "        rand_height = class_height[rand_ind,:,:,:]\n",
    "        rand_slope = class_slope[rand_ind]\n",
    "        rand_altitude = class_altitude[rand_ind]\n",
    "        rand_lbl = class_lbl[rand_ind]\n",
    "\n",
    "        # Append data to its respective array\n",
    "        train_spec_ao = np.append(train_spec_ao, rand_spec, axis=0)\n",
    "        train_height_ao = np.append(train_height_ao, rand_height, axis=0)\n",
    "        train_slope_ao = np.append(train_slope_ao, rand_slope, axis=0)\n",
    "        train_altitude_ao = np.append(train_altitude_ao, rand_altitude, axis=0)  \n",
    "        train_lbl_ao = np.append(train_lbl_ao, rand_lbl, axis=0)"
   ]
  },
  {
   "cell_type": "markdown",
   "metadata": {},
   "source": [
    "### One hot encoding"
   ]
  },
  {
   "cell_type": "code",
   "execution_count": 16,
   "metadata": {},
   "outputs": [],
   "source": [
    "# One hot encode the labels\n",
    "train_lbl_ao_ohe = tf.keras.utils.to_categorical(train_lbl_ao)\n",
    "test_lbl_ohe = tf.keras.utils.to_categorical(test_lbl)\n",
    "val_lbl_ohe = tf.keras.utils.to_categorical(val_lbl)"
   ]
  },
  {
   "cell_type": "markdown",
   "metadata": {},
   "source": [
    "---------"
   ]
  },
  {
   "cell_type": "markdown",
   "metadata": {},
   "source": [
    "---------"
   ]
  },
  {
   "cell_type": "markdown",
   "metadata": {},
   "source": [
    "## Create the Ensemble Convolutional Neural Network Model\n",
    "\n",
    "We will create en ensemble model, that combines different convolutional neural networks for different parts of the data into one. There will be one convolutional neural network for the spectral images and one for the images of the vegetation height. Slope and altitude information will be added as auxiliary information that is not processed by a convolutional neural network. All models and information are eventually fed to a dense network which results in the categorization of the information in either of the four tree species categories.\n"
   ]
  },
  {
   "cell_type": "markdown",
   "metadata": {},
   "source": [
    "### Part 1: Define a convolutional neural network for the spectral data"
   ]
  },
  {
   "cell_type": "code",
   "execution_count": 17,
   "metadata": {},
   "outputs": [
    {
     "name": "stdout",
     "output_type": "stream",
     "text": [
      "Model: \"model_spec\"\n",
      "_________________________________________________________________\n",
      " Layer (type)                Output Shape              Param #   \n",
      "=================================================================\n",
      " input_1 (InputLayer)        [(None, 38, 38, 4)]       0         \n",
      "                                                                 \n",
      " conv2d (Conv2D)             (None, 36, 36, 32)        1184      \n",
      "                                                                 \n",
      " max_pooling2d (MaxPooling2  (None, 18, 18, 32)        0         \n",
      " D)                                                              \n",
      "                                                                 \n",
      " dropout (Dropout)           (None, 18, 18, 32)        0         \n",
      "                                                                 \n",
      " conv2d_1 (Conv2D)           (None, 16, 16, 64)        18496     \n",
      "                                                                 \n",
      " max_pooling2d_1 (MaxPoolin  (None, 8, 8, 64)          0         \n",
      " g2D)                                                            \n",
      "                                                                 \n",
      " dropout_1 (Dropout)         (None, 8, 8, 64)          0         \n",
      "                                                                 \n",
      " conv2d_2 (Conv2D)           (None, 6, 6, 128)         73856     \n",
      "                                                                 \n",
      " max_pooling2d_2 (MaxPoolin  (None, 3, 3, 128)         0         \n",
      " g2D)                                                            \n",
      "                                                                 \n",
      " dropout_2 (Dropout)         (None, 3, 3, 128)         0         \n",
      "                                                                 \n",
      " conv2d_3 (Conv2D)           (None, 1, 1, 256)         295168    \n",
      "                                                                 \n",
      " dropout_3 (Dropout)         (None, 1, 1, 256)         0         \n",
      "                                                                 \n",
      " flatten (Flatten)           (None, 256)               0         \n",
      "                                                                 \n",
      "=================================================================\n",
      "Total params: 388704 (1.48 MB)\n",
      "Trainable params: 388704 (1.48 MB)\n",
      "Non-trainable params: 0 (0.00 Byte)\n",
      "_________________________________________________________________\n"
     ]
    }
   ],
   "source": [
    "# Create the input layer\n",
    "input_spec = tf.keras.layers.Input(shape=(train_spec_ao.shape[1], train_spec_ao.shape[2], train_spec_ao.shape[3]))\n",
    "\n",
    "# Create layer 1\n",
    "conv1_spec = tf.keras.layers.Conv2D(filters=32, kernel_size=[3,3], activation='relu')(input_spec)\n",
    "pool1_spec = tf.keras.layers.MaxPooling2D(pool_size=[2,2])(conv1_spec)\n",
    "drop1_spec = tf.keras.layers.Dropout(0.2)(pool1_spec)\n",
    "\n",
    "# Create layer 2\n",
    "conv2_spec = tf.keras.layers.Conv2D(filters=64, kernel_size=[3,3], activation='relu')(drop1_spec)\n",
    "pool2_spec = tf.keras.layers.MaxPooling2D(pool_size=[2,2])(conv2_spec)\n",
    "drop2_spec = tf.keras.layers.Dropout(0.4)(pool2_spec)\n",
    "\n",
    "# Create layer 3\n",
    "conv3_spec = tf.keras.layers.Conv2D(filters=128, kernel_size=[3,3], activation='relu')(drop2_spec)\n",
    "pool3_spec = tf.keras.layers.MaxPooling2D(pool_size=[2,2])(conv3_spec)\n",
    "drop3_spec = tf.keras.layers.Dropout(0.4)(pool3_spec)\n",
    "\n",
    "# Create layer 4\n",
    "conv4_spec = tf.keras.layers.Conv2D(filters=256, kernel_size=[3,3], activation='relu')(drop3_spec)\n",
    "drop4_spec = tf.keras.layers.Dropout(0.2)(conv4_spec)\n",
    "\n",
    "# Create the final flat layer\n",
    "flat1_spec = tf.keras.layers.Flatten()(drop4_spec)\n",
    "\n",
    "# Create a model from this structure\n",
    "model_spec = tf.keras.Model(input_spec, flat1_spec, name=\"model_spec\")\n",
    "\n",
    "# Show the structure of this model\n",
    "model_spec.summary()"
   ]
  },
  {
   "cell_type": "markdown",
   "metadata": {},
   "source": [
    "### Part 2: Define a convolutional neural network for the vegetation height data"
   ]
  },
  {
   "cell_type": "code",
   "execution_count": 18,
   "metadata": {},
   "outputs": [
    {
     "name": "stdout",
     "output_type": "stream",
     "text": [
      "Model: \"model_height\"\n",
      "_________________________________________________________________\n",
      " Layer (type)                Output Shape              Param #   \n",
      "=================================================================\n",
      " input_2 (InputLayer)        [(None, 10, 10, 1)]       0         \n",
      "                                                                 \n",
      " conv2d_4 (Conv2D)           (None, 8, 8, 32)          320       \n",
      "                                                                 \n",
      " max_pooling2d_3 (MaxPoolin  (None, 4, 4, 32)          0         \n",
      " g2D)                                                            \n",
      "                                                                 \n",
      " dropout_4 (Dropout)         (None, 4, 4, 32)          0         \n",
      "                                                                 \n",
      " conv2d_5 (Conv2D)           (None, 2, 2, 64)          18496     \n",
      "                                                                 \n",
      " max_pooling2d_4 (MaxPoolin  (None, 1, 1, 64)          0         \n",
      " g2D)                                                            \n",
      "                                                                 \n",
      " dropout_5 (Dropout)         (None, 1, 1, 64)          0         \n",
      "                                                                 \n",
      " flatten_1 (Flatten)         (None, 64)                0         \n",
      "                                                                 \n",
      "=================================================================\n",
      "Total params: 18816 (73.50 KB)\n",
      "Trainable params: 18816 (73.50 KB)\n",
      "Non-trainable params: 0 (0.00 Byte)\n",
      "_________________________________________________________________\n"
     ]
    }
   ],
   "source": [
    "# Create the input layer\n",
    "input_height = tf.keras.layers.Input(shape=(train_height_ao.shape[1],train_height_ao.shape[2], train_height_ao.shape[3]))\n",
    "\n",
    "# Create layer 1\n",
    "conv1_height = tf.keras.layers.Conv2D(filters=32, kernel_size=[3,3], activation='relu')(input_height)\n",
    "pool1_height = tf.keras.layers.MaxPooling2D(pool_size=[2,2])(conv1_height)\n",
    "drop1_height = tf.keras.layers.Dropout(0.4)(pool1_height)\n",
    "\n",
    "# Create layer 2\n",
    "conv2_height = tf.keras.layers.Conv2D(filters=64, kernel_size=[3,3], activation='relu')(drop1_height)\n",
    "pool2_height = tf.keras.layers.MaxPooling2D(pool_size=[2,2])(conv2_height)\n",
    "drop2_height = tf.keras.layers.Dropout(0.4)(pool2_height)\n",
    "\n",
    "# Create the final flat layer\n",
    "flat1_height = tf.keras.layers.Flatten()(drop2_height)\n",
    "\n",
    "# Create a model from this structure\n",
    "model_height = tf.keras.Model(input_height, flat1_height, name=\"model_height\")\n",
    "\n",
    "# Show the structure of this model\n",
    "model_height.summary()"
   ]
  },
  {
   "cell_type": "markdown",
   "metadata": {},
   "source": [
    "### Part 3: Define a model input for additional variables that are no images"
   ]
  },
  {
   "cell_type": "code",
   "execution_count": 19,
   "metadata": {},
   "outputs": [],
   "source": [
    "# Combine the variables into one array\n",
    "train_aux_ao = np.vstack([train_slope_ao, train_altitude_ao]).T\n",
    "test_aux = np.vstack([test_slope, test_altitude]).T\n",
    "val_aux = np.vstack([val_slope, val_altitude]).T\n",
    "\n",
    "# Create an input layer for auxiliary variables that are directly attached\n",
    "# to the dense layer\n",
    "input_aux = tf.keras.layers.Input(shape=(2,))"
   ]
  },
  {
   "cell_type": "markdown",
   "metadata": {},
   "source": [
    "### Part 4: Combine all models into one"
   ]
  },
  {
   "cell_type": "code",
   "execution_count": 20,
   "metadata": {},
   "outputs": [
    {
     "name": "stdout",
     "output_type": "stream",
     "text": [
      "Model: \"model_speight\"\n",
      "__________________________________________________________________________________________________\n",
      " Layer (type)                Output Shape                 Param #   Connected to                  \n",
      "==================================================================================================\n",
      " input_1 (InputLayer)        [(None, 38, 38, 4)]          0         []                            \n",
      "                                                                                                  \n",
      " conv2d (Conv2D)             (None, 36, 36, 32)           1184      ['input_1[0][0]']             \n",
      "                                                                                                  \n",
      " max_pooling2d (MaxPooling2  (None, 18, 18, 32)           0         ['conv2d[0][0]']              \n",
      " D)                                                                                               \n",
      "                                                                                                  \n",
      " dropout (Dropout)           (None, 18, 18, 32)           0         ['max_pooling2d[0][0]']       \n",
      "                                                                                                  \n",
      " conv2d_1 (Conv2D)           (None, 16, 16, 64)           18496     ['dropout[0][0]']             \n",
      "                                                                                                  \n",
      " max_pooling2d_1 (MaxPoolin  (None, 8, 8, 64)             0         ['conv2d_1[0][0]']            \n",
      " g2D)                                                                                             \n",
      "                                                                                                  \n",
      " input_2 (InputLayer)        [(None, 10, 10, 1)]          0         []                            \n",
      "                                                                                                  \n",
      " dropout_1 (Dropout)         (None, 8, 8, 64)             0         ['max_pooling2d_1[0][0]']     \n",
      "                                                                                                  \n",
      " conv2d_4 (Conv2D)           (None, 8, 8, 32)             320       ['input_2[0][0]']             \n",
      "                                                                                                  \n",
      " conv2d_2 (Conv2D)           (None, 6, 6, 128)            73856     ['dropout_1[0][0]']           \n",
      "                                                                                                  \n",
      " max_pooling2d_3 (MaxPoolin  (None, 4, 4, 32)             0         ['conv2d_4[0][0]']            \n",
      " g2D)                                                                                             \n",
      "                                                                                                  \n",
      " max_pooling2d_2 (MaxPoolin  (None, 3, 3, 128)            0         ['conv2d_2[0][0]']            \n",
      " g2D)                                                                                             \n",
      "                                                                                                  \n",
      " dropout_4 (Dropout)         (None, 4, 4, 32)             0         ['max_pooling2d_3[0][0]']     \n",
      "                                                                                                  \n",
      " dropout_2 (Dropout)         (None, 3, 3, 128)            0         ['max_pooling2d_2[0][0]']     \n",
      "                                                                                                  \n"
     ]
    },
    {
     "name": "stdout",
     "output_type": "stream",
     "text": [
      " conv2d_5 (Conv2D)           (None, 2, 2, 64)             18496     ['dropout_4[0][0]']           \n",
      "                                                                                                  \n",
      " conv2d_3 (Conv2D)           (None, 1, 1, 256)            295168    ['dropout_2[0][0]']           \n",
      "                                                                                                  \n",
      " max_pooling2d_4 (MaxPoolin  (None, 1, 1, 64)             0         ['conv2d_5[0][0]']            \n",
      " g2D)                                                                                             \n",
      "                                                                                                  \n",
      " dropout_3 (Dropout)         (None, 1, 1, 256)            0         ['conv2d_3[0][0]']            \n",
      "                                                                                                  \n",
      " dropout_5 (Dropout)         (None, 1, 1, 64)             0         ['max_pooling2d_4[0][0]']     \n",
      "                                                                                                  \n",
      " flatten (Flatten)           (None, 256)                  0         ['dropout_3[0][0]']           \n",
      "                                                                                                  \n",
      " flatten_1 (Flatten)         (None, 64)                   0         ['dropout_5[0][0]']           \n",
      "                                                                                                  \n",
      " input_3 (InputLayer)        [(None, 2)]                  0         []                            \n",
      "                                                                                                  \n",
      " concatenate (Concatenate)   (None, 322)                  0         ['flatten[0][0]',             \n",
      "                                                                     'flatten_1[0][0]',           \n",
      "                                                                     'input_3[0][0]']             \n",
      "                                                                                                  \n",
      " dense (Dense)               (None, 64)                   20672     ['concatenate[0][0]']         \n",
      "                                                                                                  \n",
      " dropout_6 (Dropout)         (None, 64)                   0         ['dense[0][0]']               \n",
      "                                                                                                  \n",
      " dense_1 (Dense)             (None, 32)                   2080      ['dropout_6[0][0]']           \n",
      "                                                                                                  \n",
      " dropout_7 (Dropout)         (None, 32)                   0         ['dense_1[0][0]']             \n",
      "                                                                                                  \n",
      " dense_2 (Dense)             (None, 32)                   1056      ['dropout_7[0][0]']           \n",
      "                                                                                                  \n",
      " dropout_8 (Dropout)         (None, 32)                   0         ['dense_2[0][0]']             \n",
      "                                                                                                  \n",
      " dense_3 (Dense)             (None, 4)                    132       ['dropout_8[0][0]']           \n",
      "                                                                                                  \n",
      "==================================================================================================\n",
      "Total params: 431460 (1.65 MB)\n",
      "Trainable params: 431460 (1.65 MB)\n",
      "Non-trainable params: 0 (0.00 Byte)\n",
      "__________________________________________________________________________________________________\n"
     ]
    }
   ],
   "source": [
    "# Concatenate all models from before\n",
    "cross_speight = tf.keras.layers.concatenate([flat1_spec, flat1_height, input_aux]) \n",
    "\n",
    "# Create the dense layer 1\n",
    "dens1_speight = tf.keras.layers.Dense(units=64, activation='relu')(cross_speight)\n",
    "drop1_speight = tf.keras.layers.Dropout(.2)(dens1_speight)\n",
    "\n",
    "# Create the dense layer 2\n",
    "dens2_speight = tf.keras.layers.Dense(units=32, activation='relu')(drop1_speight)\n",
    "drop2_speight = tf.keras.layers.Dropout(.4)(dens2_speight)\n",
    "\n",
    "# Create the dense layer 3\n",
    "dens3_speight = tf.keras.layers.Dense(units=32, activation='relu')(drop2_speight)\n",
    "drop3_speight = tf.keras.layers.Dropout(.2)(dens3_speight)\n",
    "\n",
    "# Create the output layer with four units as there are four tree species\n",
    "# that need to be predicted\n",
    "output_speight = tf.keras.layers.Dense(units=4, activation='softmax')(drop3_speight)\n",
    "\n",
    "# Create the final model\n",
    "model_speight = tf.keras.models.Model(inputs=[input_spec, input_height, input_aux], outputs=output_speight, name=\"model_speight\")\n",
    "\n",
    "# Show the structure of this model\n",
    "model_speight.summary()\n"
   ]
  },
  {
   "cell_type": "markdown",
   "metadata": {},
   "source": [
    "### Part 5: Compile and fit the model"
   ]
  },
  {
   "cell_type": "code",
   "execution_count": 21,
   "metadata": {},
   "outputs": [
    {
     "name": "stdout",
     "output_type": "stream",
     "text": [
      "Epoch 1/10\n",
      "1134/1134 [==============================] - 43s 37ms/step - loss: 1.2382 - categorical_accuracy: 0.4516 - val_loss: 1.2034 - val_categorical_accuracy: 0.5000\n",
      "Epoch 2/10\n",
      "1134/1134 [==============================] - 35s 31ms/step - loss: 1.1687 - categorical_accuracy: 0.5203 - val_loss: 1.1537 - val_categorical_accuracy: 0.4882\n",
      "Epoch 3/10\n",
      "1134/1134 [==============================] - 35s 31ms/step - loss: 1.1381 - categorical_accuracy: 0.5340 - val_loss: 1.2196 - val_categorical_accuracy: 0.4941\n",
      "Epoch 4/10\n",
      "1134/1134 [==============================] - 35s 31ms/step - loss: 1.1150 - categorical_accuracy: 0.5520 - val_loss: 1.1801 - val_categorical_accuracy: 0.5294\n",
      "Epoch 5/10\n",
      "1134/1134 [==============================] - 34s 30ms/step - loss: 1.0899 - categorical_accuracy: 0.5723 - val_loss: 1.1200 - val_categorical_accuracy: 0.5353\n",
      "Epoch 6/10\n",
      "1134/1134 [==============================] - 35s 31ms/step - loss: 1.0723 - categorical_accuracy: 0.5897 - val_loss: 1.1128 - val_categorical_accuracy: 0.5588\n",
      "Epoch 7/10\n",
      "1134/1134 [==============================] - 35s 31ms/step - loss: 1.0536 - categorical_accuracy: 0.6036 - val_loss: 1.0975 - val_categorical_accuracy: 0.5588\n",
      "Epoch 8/10\n",
      "1134/1134 [==============================] - 37s 33ms/step - loss: 1.0319 - categorical_accuracy: 0.6222 - val_loss: 1.0820 - val_categorical_accuracy: 0.5471\n",
      "Epoch 9/10\n",
      "1134/1134 [==============================] - 39s 34ms/step - loss: 1.0136 - categorical_accuracy: 0.6385 - val_loss: 1.1128 - val_categorical_accuracy: 0.5294\n",
      "Epoch 10/10\n",
      "1134/1134 [==============================] - 35s 31ms/step - loss: 0.9983 - categorical_accuracy: 0.6482 - val_loss: 1.0827 - val_categorical_accuracy: 0.5765\n"
     ]
    }
   ],
   "source": [
    "# Compile the model\n",
    "model_speight.compile(\\\n",
    "    optimizer=tf.keras.optimizers.RMSprop(),\n",
    "    loss=tf.keras.losses.CategoricalCrossentropy(label_smoothing = 0.1),\n",
    "    metrics=['categorical_accuracy'])\n",
    "\n",
    "# Fit the model\n",
    "history_speight = model_speight.fit(\\\n",
    "    x=[train_spec_ao, train_height_ao, train_aux_ao],\n",
    "    y=train_lbl_ao_ohe,\n",
    "    epochs=10,\n",
    "    validation_data=([test_spec, test_height, test_aux], test_lbl_ohe))"
   ]
  },
  {
   "cell_type": "code",
   "execution_count": 22,
   "metadata": {},
   "outputs": [
    {
     "data": {
      "image/png": "[encoded data removed]",
      "text/plain": [
       "<Figure size 1000x600 with 1 Axes>"
      ]
     },
     "metadata": {},
     "output_type": "display_data"
    },
    {
     "data": {
      "image/png": "[encoded data removed]",
      "text/plain": [
       "<Figure size 1000x600 with 1 Axes>"
      ]
     },
     "metadata": {},
     "output_type": "display_data"
    }
   ],
   "source": [
    "# Plot the loss function\n",
    "fig, ax = plt.subplots(1, 1, figsize=(10,6))\n",
    "ax.plot(history_speight.history['loss'], 'r', label='train')\n",
    "ax.plot(history_speight.history['val_loss'], 'b' ,label='val')\n",
    "ax.set_xlabel(r'Epoch', fontsize=20)\n",
    "ax.set_ylabel(r'Loss', fontsize=20)\n",
    "ax.legend()\n",
    "ax.tick_params(labelsize=20)\n",
    "\n",
    "# Plot the accuracy\n",
    "fig, ax = plt.subplots(1, 1, figsize=(10,6))\n",
    "ax.plot(history_speight.history[\"categorical_accuracy\"], 'r', label='train')\n",
    "ax.plot(history_speight.history['val_categorical_accuracy'], 'b' ,label='val')\n",
    "ax.set_xlabel(r'Epoch', fontsize=20)\n",
    "ax.set_ylabel(r'Accuracy', fontsize=20)\n",
    "ax.legend()\n",
    "ax.tick_params(labelsize=20)"
   ]
  },
  {
   "cell_type": "markdown",
   "metadata": {},
   "source": [
    "### Part 6: Show the results of the ensemble model"
   ]
  },
  {
   "cell_type": "code",
   "execution_count": 24,
   "metadata": {},
   "outputs": [
    {
     "name": "stdout",
     "output_type": "stream",
     "text": [
      "6/6 [==============================] - 0s 9ms/step - loss: 1.1046 - categorical_accuracy: 0.5906\n"
     ]
    },
    {
     "data": {
      "text/plain": [
       "[1.1045669317245483, 0.5906432867050171]"
      ]
     },
     "execution_count": 24,
     "metadata": {},
     "output_type": "execute_result"
    }
   ],
   "source": [
    "# Evaluate the performance of the model\n",
    "model_speight.evaluate(x=[val_spec, val_height, val_aux], y=val_lbl_ohe)"
   ]
  },
  {
   "cell_type": "code",
   "execution_count": 31,
   "metadata": {},
   "outputs": [],
   "source": [
    "# Predict from fitted model\n",
    "predictions = model_speight.predict([val_spec, val_height, val_aux], verbose=0)\n",
    "predicted_labels = np.argmax(predictions, axis=1)\n",
    "\n",
    "# Calculate class percentages\n",
    "class_percentages = np.unique(val_lbl, return_counts=True)[1]/len(val_lbl_ohe) * 100\n",
    "\n",
    "# Calculate predicted class percentages\n",
    "pred_class_percentages = np.unique(predicted_labels, return_counts=True)[1]/len(predicted_labels) * 100\n",
    "\n",
    "# Define class names\n",
    "CLASS_NAMES = ['Other', 'Rotbuche','Berg-Ahorn','Haenge-Birke']"
   ]
  },
  {
   "cell_type": "markdown",
   "metadata": {},
   "source": [
    "Let´s compare the actural proportions of each class in the original data versus the predicted proportions:"
   ]
  },
  {
   "cell_type": "code",
   "execution_count": 32,
   "metadata": {},
   "outputs": [
    {
     "name": "stdout",
     "output_type": "stream",
     "text": [
      "Actual proportions\n",
      "Other: 23.98%\n",
      "Rotbuche: 55.56%\n",
      "Berg-Ahorn: 14.62%\n",
      "Haenge-Birke: 5.85%\n",
      "\n",
      "\n",
      "Predicted proportions\n",
      "Other: 18.13%\n",
      "Rotbuche: 50.29%\n",
      "Berg-Ahorn: 11.11%\n",
      "Haenge-Birke: 20.47%\n"
     ]
    }
   ],
   "source": [
    "print('Actual proportions')\n",
    "# Look at class percentages\n",
    "for class_name, percentage in zip(CLASS_NAMES, class_percentages):\n",
    "    print(f'{class_name}: {percentage:.2f}%')\n",
    "\n",
    "print('\\n')\n",
    "print('Predicted proportions')\n",
    "# Look at predicted class percentages\n",
    "for class_name, percentage in zip(CLASS_NAMES, pred_class_percentages):\n",
    "    print(f'{class_name}: {percentage:.2f}%')"
   ]
  },
  {
   "cell_type": "markdown",
   "metadata": {},
   "source": [
    "#### Confusion matrix"
   ]
  },
  {
   "cell_type": "code",
   "execution_count": 40,
   "metadata": {},
   "outputs": [
    {
     "data": {
      "image/png": "[encoded data removed]",
      "text/plain": [
       "<Figure size 800x600 with 2 Axes>"
      ]
     },
     "metadata": {},
     "output_type": "display_data"
    }
   ],
   "source": [
    "from sklearn.metrics import confusion_matrix, classification_report\n",
    "\n",
    "# Create matrix\n",
    "confusion = confusion_matrix(val_lbl, predicted_labels)\n",
    "\n",
    "# Plot confusion matrix\n",
    "plt.figure(figsize=(8, 6))\n",
    "sns.heatmap(confusion, annot=True, fmt=\"d\", cmap=\"Blues\",\n",
    "            xticklabels=CLASS_NAMES, yticklabels=CLASS_NAMES)\n",
    "plt.xlabel('Predicted')\n",
    "plt.ylabel('True')\n",
    "plt.title('Confusion Matrix')\n",
    "plt.show()"
   ]
  },
  {
   "cell_type": "code",
   "execution_count": 41,
   "metadata": {},
   "outputs": [
    {
     "name": "stdout",
     "output_type": "stream",
     "text": [
      "              precision    recall  f1-score   support\n",
      "\n",
      "       Other       0.39      0.29      0.33        41\n",
      "    Rotbuche       0.86      0.78      0.82        95\n",
      "  Berg-Ahorn       0.42      0.32      0.36        25\n",
      "Haenge-Birke       0.20      0.70      0.31        10\n",
      "\n",
      "    accuracy                           0.59       171\n",
      "   macro avg       0.47      0.52      0.46       171\n",
      "weighted avg       0.64      0.59      0.61       171\n",
      "\n"
     ]
    }
   ],
   "source": [
    "# Classification report\n",
    "report = classification_report(val_lbl, predicted_labels, target_names=CLASS_NAMES)\n",
    "print(report)"
   ]
  },
  {
   "cell_type": "markdown",
   "metadata": {},
   "source": [
    "---------"
   ]
  },
  {
   "cell_type": "markdown",
   "metadata": {},
   "source": [
    "---------"
   ]
  },
  {
   "cell_type": "markdown",
   "metadata": {},
   "source": [
    "# Additional information"
   ]
  },
  {
   "cell_type": "markdown",
   "metadata": {},
   "source": [
    "### How well does the trained model work on other datasets?"
   ]
  },
  {
   "cell_type": "markdown",
   "metadata": {},
   "source": [
    "Here, we test how well our fitted model (that was trained on the data from 2022) can be transferred to another data set.\n",
    "As an example, we test our fitted model for the data from 2018."
   ]
  },
  {
   "cell_type": "code",
   "execution_count": null,
   "metadata": {},
   "outputs": [],
   "source": [
    "# Define the path to the data file\n",
    "data_path = '../images/box_images/baseline/model_images.npz'\n",
    "\n",
    "# Load the image array containing all box images in a 4D array and their\n",
    "# labels\n",
    "with np.load(data_path, allow_pickle=True) as data:\n",
    "    img_array = data[\"img_array\"]\n",
    "    labels = data[\"labels\"]\n",
    "\n",
    "# Extract only none nan values from the year 2018 \n",
    "img_array = img_array[:,0:1701,:,:,:]\n",
    "img_array = np.reshape(img_array[[2,2,2,2,2],:,:,:,:], (-1,35,35,4)) ## 2 refers to 2018\n",
    "height_array = np.reshape(height_array, (-1,11,11))\n",
    "label_array = np.reshape(labels[:,0:1701], (-1))\n",
    "\n",
    "# As tensorflow prefers integers compared to strings as target values, we \n",
    "# transform our labels array. As a first step, create a new array that\n",
    "# looks exactly like labels but is filled with zeros\n",
    "labels_int = np.zeros_like(label_array)\n",
    "\n",
    "# Loop through each label\n",
    "for i in range(len(label_array)):\n",
    "    \n",
    "    # Assign a 1 if it is a Rotbuche\n",
    "    if label_array[i] == 'Rotbuche':\n",
    "        labels_int[i] = 1\n",
    "\n",
    "    # Assign a 2 if it is a Berg-Ahorn    \n",
    "    elif label_array[i] == 'Berg-Ahorn':\n",
    "        labels_int[i] = 2\n",
    "\n",
    "    # Assign a 3 if it is a Haenge-Birke    \n",
    "    elif label_array[i] == 'Haenge-Birke':\n",
    "        labels_int[i] = 3\n",
    "    \n",
    "# As the array is still of type \"obj\", we need to change it to \"int\"\n",
    "labels_int = labels_int.astype('int')"
   ]
  },
  {
   "cell_type": "code",
   "execution_count": null,
   "metadata": {},
   "outputs": [],
   "source": [
    "np.unique(labels_int, return_counts=True)"
   ]
  },
  {
   "cell_type": "code",
   "execution_count": null,
   "metadata": {},
   "outputs": [],
   "source": [
    "# Predict from fitted model\n",
    "predictions = model_speight.predict([img_array, height_array], verbose=0)\n",
    "predicted_labels = np.argmax(predictions, axis=1)\n",
    "\n",
    "# Calculate class percentages\n",
    "class_percentages = np.unique(labels_int, return_counts=True)[1]/len(labels_int) * 100\n",
    "\n",
    "# Calculate predicted class percentages\n",
    "pred_class_percentages = np.unique(predicted_labels, return_counts=True)[1]/len(predicted_labels) * 100\n",
    "\n",
    "# Define class names\n",
    "CLASS_NAMES = ['Other', 'Rotbuche','Ahorn','Birke'] # Stimmt die Reihenfolge, Alex?\n",
    "\n",
    "print('Actual proportions')\n",
    "# Look at class percentages\n",
    "for class_name, percentage in zip(CLASS_NAMES, class_percentages):\n",
    "    print(f'{class_name}: {percentage:.2f}%')\n",
    "\n",
    "print('\\n')\n",
    "print('Predicted proportions')\n",
    "# Look at predicted class percentages\n",
    "for class_name, percentage in zip(CLASS_NAMES, pred_class_percentages):\n",
    "    print(f'{class_name}: {percentage:.2f}%')"
   ]
  },
  {
   "cell_type": "code",
   "execution_count": null,
   "metadata": {},
   "outputs": [],
   "source": [
    "np.mean(labels_int == predicted_labels)"
   ]
  },
  {
   "cell_type": "code",
   "execution_count": null,
   "metadata": {},
   "outputs": [],
   "source": [
    "from sklearn.metrics import confusion_matrix, classification_report\n",
    "\n",
    "# Create matrix\n",
    "confusion = confusion_matrix(np.reshape(labels_int, (5,-1))[1,:], np.reshape(predicted_labels, (5,-1))[1,:])\n",
    "\n",
    "# Plot confusion matrix\n",
    "plt.figure(figsize=(8, 6))\n",
    "sns.heatmap(confusion, annot=True, fmt=\"d\", cmap=\"Blues\",\n",
    "            xticklabels=CLASS_NAMES, yticklabels=CLASS_NAMES)\n",
    "plt.xlabel('Predicted')\n",
    "plt.ylabel('True')\n",
    "plt.title('Confusion Matrix')\n",
    "plt.show()"
   ]
  },
  {
   "cell_type": "markdown",
   "metadata": {},
   "source": [
    "### Hyper parameter search for a CNN"
   ]
  },
  {
   "cell_type": "markdown",
   "metadata": {},
   "source": [
    "One possibility to find the optimal hyper parameters for a model is to use the hyper parameter tuner. We used it, inter alia, to tune the kernel_initializer, the learning rate as well as the filter and dropout rates. We used the hyperband tuning algorithm, which uses adaptive resource allocation and early-stopping to quickly converge on a high-performing model."
   ]
  },
  {
   "cell_type": "code",
   "execution_count": null,
   "metadata": {},
   "outputs": [],
   "source": [
    "#Toolbox for hyperparameter tuning\n",
    "from kerastuner import Hyperband\n",
    "from kerastuner.engine.hyperparameters import HyperParameters\n",
    "\n",
    "# Create a callback to stop training early after reaching a certain value for the validation loss.\n",
    "stop_early = tf.keras.callbacks.EarlyStopping(monitor='val_loss', patience=5)"
   ]
  },
  {
   "cell_type": "markdown",
   "metadata": {},
   "source": [
    "We have identified a good CNN structure, so we will use this here. \n",
    "As the Keras Tuner cannot work with Pooling layers, so they are not included."
   ]
  },
  {
   "cell_type": "code",
   "execution_count": null,
   "metadata": {},
   "outputs": [],
   "source": [
    "# Create the  model function\n",
    "def model_builder(hp):\n",
    "    model = tf.keras.models.Sequential()\n",
    "\n",
    "    model.add(tf.keras.layers.InputLayer(input_shape=[35,35,4]))\n",
    "    model.add(tf.keras.layers.Rescaling(1/((2**16)-1)))\n",
    "\n",
    "\n",
    "    hp_filters1 = hp.Choice('filters1', values=[16, 32, 64]) #32 is best\n",
    "    hp_dropout1 = hp.Choice('dropout1', values = [0.0, 0.2, 0.4])\n",
    "    hp_initializer1 = hp.Choice('initializer1', values = ['uniform', 'he_normal','random_normal', 'he_uniform'])\n",
    "    model.add(tf.keras.layers.Conv2D(filters=hp_filters1, kernel_size=[3, 3], strides=2, kernel_initializer= hp_initializer1, activation='relu'))\n",
    "    model.add(tf.keras.layers.Dropout(hp_dropout1))\n",
    "\n",
    "    hp_filters2 = hp.Choice('filters2', values=[64, 128, 256]) #128 is best\n",
    "    hp_dropout2 = hp.Choice('dropout2', values = [0.3, 0.4, 0.5])\n",
    "    model.add(tf.keras.layers.Conv2D(filters=hp_filters2, kernel_size=[3, 3], strides=2, kernel_initializer='uniform', activation='relu'))\n",
    "    model.add(tf.keras.layers.Dropout(hp_dropout2))\n",
    "\n",
    "    hp_filters3 = hp.Choice('filters3', values=[64, 128, 256]) #128 is best\n",
    "    hp_dropout3 = hp.Choice('dropout3', values = [ 0.0, 0.2, 0.4])\n",
    "    model.add(tf.keras.layers.Conv2D(filters=hp_filters3, kernel_size=[3,3], activation='relu'))\n",
    "    model.add(tf.keras.layers.Dropout(hp_dropout3))\n",
    "\n",
    "\n",
    "    model.add(tf.keras.layers.Flatten())\n",
    "\n",
    "    hp_filters4 = hp.Choice('filters4', values=[16, 32, 64])\n",
    "    hp_dropout4 = hp.Choice('dropout4', values = [ 0.0, 0.2, 0.4])\n",
    "    model.add(tf.keras.layers.Dense(units=hp_filters4, activation='relu'))\n",
    "    model.add(tf.keras.layers.Dropout(hp_dropout4))\n",
    "\n",
    "    model.add(tf.keras.layers.Dense(units=4, activation='softmax')) \n",
    "\n",
    "\n",
    "    # Tune the learning rate for the optimizer\n",
    "    hp_learning_rate = hp.Choice('learning_rate', values=[0.01, 0.001, 0.0001])\n",
    "\n",
    "    model.compile(optimizer=tf.keras.optimizers.Adam(learning_rate=hp_learning_rate),\n",
    "            loss=tf.keras.losses.SparseCategoricalCrossentropy(from_logits=True),\n",
    "            metrics=['accuracy'])\n",
    "\n",
    "    return model"
   ]
  },
  {
   "cell_type": "code",
   "execution_count": null,
   "metadata": {},
   "outputs": [],
   "source": [
    "# Hyperband determines the number of models to train in a bracket by \n",
    "# computing 1 + log factor(max_epochs) and rounding it up to the nearest integer.\n",
    "tuner = kt.Hyperband(model_builder,\n",
    "                    objective='val_accuracy',\n",
    "                    max_epochs=70,\n",
    "                    factor=3,\n",
    "                    directory='../data',\n",
    "                    project_name='CNN_test_initializer_v1') #always change from run to run, otherwise triggered exit"
   ]
  },
  {
   "cell_type": "code",
   "execution_count": null,
   "metadata": {},
   "outputs": [],
   "source": [
    "#tuner.search(img_train, label_train, epochs=70, validation_split=0.2, callbacks=[stop_early]) #for original train data\n",
    "tuner.search(img_os, label_os, epochs=10, validation_split=0.2, callbacks=[stop_early], verbose = 0) #for oversampled ata \n",
    "\n",
    "# get the optimal hyperparameters\n",
    "best_hps=tuner.get_best_hyperparameters(num_trials=1)[0]"
   ]
  }
 ],
 "metadata": {
  "kernelspec": {
   "display_name": "Python 3",
   "language": "python",
   "name": "python3"
  },
  "language_info": {
   "codemirror_mode": {
    "name": "ipython",
    "version": 3
   },
   "file_extension": ".py",
   "mimetype": "text/x-python",
   "name": "python",
   "nbconvert_exporter": "python",
   "pygments_lexer": "ipython3",
   "version": "3.11.3"
  },
  "orig_nbformat": 4
 },
 "nbformat": 4,
 "nbformat_minor": 2
}
