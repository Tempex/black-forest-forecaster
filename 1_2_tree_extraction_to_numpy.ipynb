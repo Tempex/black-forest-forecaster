{
 "cells": [
  {
   "cell_type": "markdown",
   "metadata": {},
   "source": [
    "# Extracting The Tree Images \n",
    "In this notebook we will extract the tree images from the raster files and store them together with the correct label in a `.npz` file.\n",
    "\n",
    "**Note:** For demonstration purposes only on ortho image will be processed. In the `scripts` folder is a file containing all the functions to use the process on all available data."
   ]
  },
  {
   "cell_type": "markdown",
   "metadata": {},
   "source": [
    "### Importing needed libraries & packages"
   ]
  },
  {
   "cell_type": "code",
   "execution_count": 1,
   "metadata": {},
   "outputs": [],
   "source": [
    "import pandas as pd\n",
    "import numpy as np\n",
    "import rasterio as rio"
   ]
  },
  {
   "cell_type": "markdown",
   "metadata": {},
   "source": [
    "### Loading the tree data\n",
    "We will now load the data with the tree coordinates and labels we need to extract the individual tree images."
   ]
  },
  {
   "cell_type": "code",
   "execution_count": 2,
   "metadata": {},
   "outputs": [],
   "source": [
    "path = \"./data/trees.csv\" # file containing the needed data\n",
    "# Import data that contains the labeled but uncorrected gps tree\n",
    "# coordinates\n",
    "tc_df = pd.read_csv(path)\n",
    "\n",
    "# Extrac those variables that will be of importance, this might vary depending on how it is stored\n",
    "tc_df = tc_df[['X', 'Y', 'desc']]\n",
    "\n",
    "# Rename the columns\n",
    "tc_df.columns = ['x_geo', 'y_geo', 'label']\n",
    "coordinates = tuple(tc_df.itertuples(index=False,name=None)) # converting the dataframe into a tuple of tuples to make sure everything stays in place."
   ]
  },
  {
   "cell_type": "markdown",
   "metadata": {},
   "source": [
    "### Extracting the trees\n",
    "Now we will load the raster image (i.e. ortho photos, vegetation height raster, etc.) and extract all trees that are in the file we just loaded."
   ]
  },
  {
   "cell_type": "code",
   "execution_count": 3,
   "metadata": {},
   "outputs": [],
   "source": [
    "filepath = \"./data/TDOP/TDOP_2022.tif\""
   ]
  },
  {
   "cell_type": "code",
   "execution_count": 4,
   "metadata": {},
   "outputs": [],
   "source": [
    "save_list = [] # creating lists to store the extracted images in \n",
    "labels_list = [] # same for the labels\n",
    "\n",
    "with rio.open(filepath) as data:\n",
    "    for (lon, lat, label) in coordinates:\n",
    "\n",
    "        # Get pixel coordinates from map coordinates\n",
    "        py, px = data.index(lon, lat)\n",
    "        window = rio.windows.Window(px - 14, py - 14, 35, 35)\n",
    "\n",
    "        # Read the data in the window\n",
    "        clip = data.read(window=window)\n",
    "        clip_T = np.transpose(clip,(1,2,0)) # transpose the data to match required shape, rasterio images are in the shape: channels,width,height\n",
    "                                            # but we need width,height,channels\n",
    "\n",
    "        if clip_T.shape != (35,35,4): # checking if the clipped image was fully inside the picture by looking at the clips size\n",
    "            continue\n",
    "        else:\n",
    "            save_list.append(clip_T)\n",
    "            labels_list.append(label)\n",
    "\n",
    "# turn the list into an array for saving\n",
    "save_array = np.array(save_list)    \n",
    "labels_array = np.array(labels_list)"
   ]
  },
  {
   "cell_type": "markdown",
   "metadata": {},
   "source": [
    "Let's look at what we just created:"
   ]
  },
  {
   "cell_type": "code",
   "execution_count": 5,
   "metadata": {},
   "outputs": [
    {
     "data": {
      "text/plain": [
       "(1705, 35, 35, 4)"
      ]
     },
     "execution_count": 5,
     "metadata": {},
     "output_type": "execute_result"
    }
   ],
   "source": [
    "save_array.shape"
   ]
  },
  {
   "cell_type": "markdown",
   "metadata": {},
   "source": [
    "And what does a image look like?"
   ]
  },
  {
   "cell_type": "code",
   "execution_count": 6,
   "metadata": {},
   "outputs": [
    {
     "data": {
      "text/plain": [
       "array([[[14111, 16306, 14080, 38100],\n",
       "        [14471, 16715, 14440, 38238],\n",
       "        [12788, 14853, 12668, 36180],\n",
       "        ...,\n",
       "        [10343, 11835, 11380, 35915],\n",
       "        [11202, 12808, 12325, 37338],\n",
       "        [11795, 13630, 12441, 38603]],\n",
       "\n",
       "       [[17477, 20131, 17227, 42603],\n",
       "        [16365, 18885, 15951, 40501],\n",
       "        [14120, 16338, 13783, 37606],\n",
       "        ...,\n",
       "        [ 9978, 11459, 10787, 35332],\n",
       "        [ 9088, 10444,  9866, 33907],\n",
       "        [11883, 13742, 12552, 39153]],\n",
       "\n",
       "       [[19693, 22673, 19336, 45706],\n",
       "        [20033, 23080, 19113, 45341],\n",
       "        [16394, 18940, 15745, 40370],\n",
       "        ...,\n",
       "        [10623, 12269, 11170, 36407],\n",
       "        [10013, 11544, 10552, 35342],\n",
       "        [13599, 15809, 13856, 41598]],\n",
       "\n",
       "       ...,\n",
       "\n",
       "       [[23609, 25672, 17864, 53189],\n",
       "        [19985, 21806, 15440, 47413],\n",
       "        [20612, 22533, 16244, 48534],\n",
       "        ...,\n",
       "        [13061, 13866, 12254, 36810],\n",
       "        [14496, 15492, 13386, 39290],\n",
       "        [15908, 17103, 14445, 41686]],\n",
       "\n",
       "       [[23559, 25761, 17834, 53734],\n",
       "        [23038, 25179, 17522, 52846],\n",
       "        [21999, 24045, 17089, 51264],\n",
       "        ...,\n",
       "        [16765, 17800, 15541, 43233],\n",
       "        [15228, 16464, 14034, 41072],\n",
       "        [17908, 19589, 16370, 45376]],\n",
       "\n",
       "       [[21864, 23970, 16741, 51471],\n",
       "        [23266, 25479, 17897, 53685],\n",
       "        [23527, 25761, 18367, 54062],\n",
       "        ...,\n",
       "        [19823, 21230, 18246, 49100],\n",
       "        [18113, 19719, 16637, 46208],\n",
       "        [18825, 20805, 17244, 47432]]], dtype=uint16)"
      ]
     },
     "execution_count": 6,
     "metadata": {},
     "output_type": "execute_result"
    }
   ],
   "source": [
    "save_array[0]"
   ]
  },
  {
   "cell_type": "markdown",
   "metadata": {},
   "source": [
    "It's an array filled with 16bit color values for the 4 channels in our image."
   ]
  },
  {
   "cell_type": "markdown",
   "metadata": {},
   "source": [
    "### Saving the data\n",
    "We now save the image and label arrays to a `.npz` file which houses all relevant arrays in one convenient file."
   ]
  },
  {
   "cell_type": "code",
   "execution_count": 7,
   "metadata": {},
   "outputs": [],
   "source": [
    "np.savez(\"./data/TDOP.npz\",img=save_array,labels=labels_array)"
   ]
  }
 ],
 "metadata": {
  "kernelspec": {
   "display_name": ".venv",
   "language": "python",
   "name": "python3"
  },
  "language_info": {
   "codemirror_mode": {
    "name": "ipython",
    "version": 3
   },
   "file_extension": ".py",
   "mimetype": "text/x-python",
   "name": "python",
   "nbconvert_exporter": "python",
   "pygments_lexer": "ipython3",
   "version": "3.11.3"
  },
  "orig_nbformat": 4
 },
 "nbformat": 4,
 "nbformat_minor": 2
}
